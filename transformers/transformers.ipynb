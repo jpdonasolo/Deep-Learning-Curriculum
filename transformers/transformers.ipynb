{
 "cells": [
  {
   "cell_type": "markdown",
   "id": "6aa2c67e",
   "metadata": {},
   "source": [
    "# The Transformer Architecture\n",
    "\n",
    "The transformer architecture was introduced in 2017 by a team of researchers from Google Deep Mind, in a paper called [Attention is All you Need](https://arxiv.org/pdf/1706.03762) and achieved State Of the Art (SOTA) performance in translation tasks due to some key insights. Since then, it has achieved SOTA performance in a range of other tasks in Natural Language Processing (NLP), computer vision and others, and today it is the model behind all most advancement in deep learning and generative AI.\n",
    "\n",
    "In the original paper, the authors implemented and Encoder-Decoder Transformer, whose architecture can be seen in Figure 1. In this code, we'll implement a Decoder-Only transformer, which has only the right side of the image below and only the first Multi-Head Attention. "
   ]
  },
  {
   "cell_type": "markdown",
   "id": "56cd5641",
   "metadata": {},
   "source": [
    "<figure>\n",
    "    <img src=\"images/transformer.png\" alt=\"Transformer\" width=\"500\"/>\n",
    "    <figcaption>Fig. 1: Attention Is All You Need, Figure 1. The decoder-encoder transformer model.</figcaption>\n",
    "</figure>"
   ]
  },
  {
   "cell_type": "markdown",
   "id": "d1e610f1",
   "metadata": {},
   "source": [
    "## The path of the data throughout the model\n",
    "Our objective is, given an input sequence of token $X_{1:N}$, predict the next token $X_{N+1}$.\n",
    "\n",
    "### Token embedding\n",
    "Neural networks can only accept numerical values as input. Although token IDs are numbers in $\\mathbb{Z}$, they cannot be fed into the network, because they are arbitrary numbers, and the model expects continuous values with some underling meaning as input. Instead, we'll create an embedding matrix $E \\in \\mathbb{R}^{vocab\\_size \\times d\\_model}$, and each token $t_i$ will be mapped to a vector $x_i \\in \\mathbb{R}^{d\\_model}$, resulting in matrix $X \\in \\mathbb{R}^{context\\_size \\times d\\_model}$. This trick allows the model to learn the token representations by itself. Suppose for example that our vocabulary has the words *beautiful* and *stunning*. If the model can learn the representations, it can learn that these two have similar meaning, thus they should be close together in the embedding space. Finally, we provide positional information to the tokens by summing up the positional encoding into $X$.\n",
    "\n",
    "### Decoder blocks\n",
    "The decoder-only transformer is composed of $N$ identical blocks, each block having a self-attention and a feed forward sublayer. While the self-attention sublayer update the tokens' incorporating context into their representation, the feed forward sublayer is a simple network with two layers and a ReLU activation function in between, that computes each row independently. Between these two sublayers, there is a skip connection and an operation of batch normalization, which address vanishing and exploding gradients problem and speed up training.\n",
    "\n",
    "### Output\n",
    "After the last block, a linear layer is applied to each row of $X$, giving us an output $O \\in \\mathbb{R}^{d\\_context \\times vocab\\_size}$, which are the logits for each token. In the training stage, we predict *all* tokens in the sequence at once (using masking and shifting positions), as a mean of parallelize training and improve sample efficiency. In the inference stage however, we only use the last row of $O$ to make our prediction."
   ]
  },
  {
   "cell_type": "markdown",
   "id": "262b3c4f",
   "metadata": {
    "papermill": {
     "duration": 0.013842,
     "end_time": "2024-07-29T20:04:28.108106",
     "exception": false,
     "start_time": "2024-07-29T20:04:28.094264",
     "status": "completed"
    },
    "tags": []
   },
   "source": [
    "# Coding\n",
    "\n",
    "Let's dive into the implementation."
   ]
  },
  {
   "cell_type": "code",
   "execution_count": 11,
   "id": "6e26f35f",
   "metadata": {
    "execution": {
     "iopub.execute_input": "2024-07-29T20:04:28.166515Z",
     "iopub.status.busy": "2024-07-29T20:04:28.166175Z",
     "iopub.status.idle": "2024-07-29T20:04:41.780526Z",
     "shell.execute_reply": "2024-07-29T20:04:41.779368Z"
    },
    "papermill": {
     "duration": 13.631786,
     "end_time": "2024-07-29T20:04:41.782835",
     "exception": false,
     "start_time": "2024-07-29T20:04:28.151049",
     "status": "completed"
    },
    "tags": []
   },
   "outputs": [],
   "source": [
    "# To run on kaggle install the right version of seaborn with\n",
    "# pip install --upgrade seaborn==0.13.2"
   ]
  },
  {
   "cell_type": "code",
   "execution_count": 12,
   "id": "1f953a12",
   "metadata": {
    "_cell_guid": "b1076dfc-b9ad-4769-8c92-a6c4dae69d19",
    "_uuid": "8f2839f25d086af736a60e9eeb907d3b93b6e0e5",
    "execution": {
     "iopub.execute_input": "2024-07-29T20:04:41.814897Z",
     "iopub.status.busy": "2024-07-29T20:04:41.814613Z",
     "iopub.status.idle": "2024-07-29T20:04:47.547404Z",
     "shell.execute_reply": "2024-07-29T20:04:47.546494Z"
    },
    "papermill": {
     "duration": 5.751193,
     "end_time": "2024-07-29T20:04:47.549600",
     "exception": false,
     "start_time": "2024-07-29T20:04:41.798407",
     "status": "completed"
    },
    "tags": []
   },
   "outputs": [
    {
     "name": "stdout",
     "output_type": "stream",
     "text": [
      "Device: cuda\n"
     ]
    }
   ],
   "source": [
    "import os\n",
    "import requests\n",
    "import random\n",
    "\n",
    "import torch\n",
    "from torch import nn\n",
    "import torch.nn.functional as F\n",
    "from torch.utils.data import Dataset, DataLoader\n",
    "\n",
    "from tokenizers import ByteLevelBPETokenizer\n",
    "from tokenizers.processors import BertProcessing\n",
    "\n",
    "import numpy as np\n",
    "import pandas as pd\n",
    "\n",
    "import matplotlib.pyplot as plt\n",
    "import seaborn as sns\n",
    "\n",
    "\n",
    "\n",
    "device = torch.device(\"cuda\" if torch.cuda.is_available() else \"cpu\")\n",
    "print(f\"Device:\", device)"
   ]
  },
  {
   "cell_type": "markdown",
   "id": "c7066935",
   "metadata": {
    "papermill": {
     "duration": 0.015374,
     "end_time": "2024-07-29T20:04:48.589009",
     "exception": false,
     "start_time": "2024-07-29T20:04:48.573635",
     "status": "completed"
    },
    "tags": []
   },
   "source": [
    "## Self-Attention\n",
    "\n",
    "Before the transformer architecture was invented, most NLP tasks were done with recurrent neural networks. These models keep an internal state $h$, and at each timestep $t$, the model receives an input $x_t$, updates its internal state to $h_t$ and uses $x_t$ and $h_t$ to predict $y_t$. For natural language tasks, the model can keep a representation of the text up to timestep $t$ and then make predictions.\n",
    "\n",
    "The self-attention mechanism was the breakthrough from the transformer paper that made it outperform traditional Recurrent Neural Networks (RNNs) for NLP tasks back then. This happened for two reasons:\n",
    "\n",
    "1. In RNNs, input sequences in the training set need to be processed sequentially due to the recurrent behavior of the model. Transformers, on the other hand, use multi-head attention in combination with masking, which allows for massive parallelization.\n",
    "\n",
    "2. RNNs update their internal state $h_t$ for each timestep as a function of $h_{t-1}$ and $x_t$, which leads to information from earlier tokens in the sequence progressively vanishing. Transformers introduced self-attention, which makes every token in the input to attend every previous token."
   ]
  },
  {
   "cell_type": "markdown",
   "id": "e09b1288",
   "metadata": {
    "papermill": {
     "duration": 0.015296,
     "end_time": "2024-07-29T20:04:48.650891",
     "exception": false,
     "start_time": "2024-07-29T20:04:48.635595",
     "status": "completed"
    },
    "tags": []
   },
   "source": [
    "### Attention score"
   ]
  },
  {
   "cell_type": "markdown",
   "id": "e1429ad6",
   "metadata": {
    "papermill": {
     "duration": 0.015627,
     "end_time": "2024-07-29T20:04:48.620160",
     "exception": false,
     "start_time": "2024-07-29T20:04:48.604533",
     "status": "completed"
    },
    "tags": []
   },
   "source": [
    "The self-attention mechanism has a few key insights. First, it uses a Query $Q \\in \\mathbb{R}^{d_{model} \\times d_q}$ matrix, which can be thought as a 'question' matrix. Each row $q_i$ asks the question: who is important in this context to my meaning? This is answered by the Key $K \\in \\mathbb{R}^{d_{model} \\times d_k}$ matrix. In the attention formula, we'll multiply $QK^T = S$, so each element $S_{ij} = Q_iK_j^T$ is a score that describes how much two tokens relate. The higher the score, the more token j is important to token i.\n",
    "\n",
    "Next, we normalize each row using softmax and multiply by the Value $V \\in \\mathbb{R}^{d_{model} \\times d_v}$ matrix, that is what tokens will update their values with. Since each row of the softmax has the weights from token i with every other token in the sequence and is normalized to 1, each output row will be the weighed sum of the rows of V, i.e., a weighted sum of the values of the tokens in the sequence. This leads to the formula $$softmax\\left(QK^T\\right)V$$\n",
    "\n",
    "which has all the essential parts of the attention mechanism. One last detail emerges when we analyze how these values behave as $d_{model}$ grows. Suppose $Q$ and $K$ are iid with mean 0 and variance 1. Then\n",
    "\n",
    "\n",
    "$$\n",
    "\\begin{aligned}\n",
    "Q_iK_j^T &= \\sum_{d=1}^{d_{model}}q_{id}k_{dj} \\implies \\\\\n",
    "\n",
    "Var(Q_iK_j^T) &= Var\\left(\\sum_{d=1}^{d_{model}}q_{id}k_{dj}\\right) = d\\_model\n",
    "\n",
    "\\end{aligned}\n",
    "$$\n",
    "\n",
    "Therefore, dividing the sum by $\\sqrt{d_{model}}$ makes the variance 1 again and creates numerical stability by avoiding large values. This leads us to the final attention formula:\n",
    "\n",
    "$$Attention(X) = softmax\\left(\\frac{QK^T}{\\sqrt{d_{model}}}\\right)V $$\n",
    "\n",
    "The matrices $Q$, $K$ and $V$ come from multiplying the learnable weight matrices $W_q,\\ W_k,\\ and\\ W_v$ by $X$:\n",
    "\n",
    "$$\\begin{aligned}\n",
    "Q &= XW_q\\\\\n",
    "K &= XW_k\\\\\n",
    "V &= XW_v\\\\\n",
    "\\end{aligned}$$\n",
    "\n",
    "Which explains the 'self' in the self-attention name: the attention is calculated using the input itself.\n",
    "\n",
    "Lastly, to get back to our original dimensions, the output is multiplied by the output matrix $W_o \\in \\mathbb{R}^{{d_v} \\times d_{model}}$."
   ]
  },
  {
   "cell_type": "code",
   "execution_count": 13,
   "id": "54921068",
   "metadata": {
    "execution": {
     "iopub.execute_input": "2024-07-29T20:04:48.683517Z",
     "iopub.status.busy": "2024-07-29T20:04:48.683151Z",
     "iopub.status.idle": "2024-07-29T20:04:48.689047Z",
     "shell.execute_reply": "2024-07-29T20:04:48.688171Z"
    },
    "papermill": {
     "duration": 0.024671,
     "end_time": "2024-07-29T20:04:48.691078",
     "exception": false,
     "start_time": "2024-07-29T20:04:48.666407",
     "status": "completed"
    },
    "tags": []
   },
   "outputs": [],
   "source": [
    "def unmasked_attention_score(Q: torch.tensor, K: torch.tensor, V) -> torch.tensor:\n",
    "    \"\"\" Compute the attention score between two sequences of vectors.\n",
    "\n",
    "    Args:   \n",
    "        Qs (torch.tensor): A tensor of shape (batch_size, context_size, d_q) containing the queries.\n",
    "        Ks (torch.tensor): A tensor of shape (batch_size, context_size, d_k) containing the keys.\n",
    "        mask (torch.tensor): A tensor of shape (batch_size, context_size, context_size) containing the mask to apply to the attention score\n",
    "    \"\"\"\n",
    "    d_model = Q.shape[-2] # = d_q = d_k = d_v\n",
    "    qk_matrix = Q @ torch.transpose(K, -1, -2) / d_model**.5\n",
    "\n",
    "    return torch.softmax(qk_matrix, dim=-1) @ V"
   ]
  },
  {
   "cell_type": "code",
   "execution_count": 14,
   "id": "e5498b92",
   "metadata": {
    "execution": {
     "iopub.execute_input": "2024-07-29T20:04:48.724204Z",
     "iopub.status.busy": "2024-07-29T20:04:48.723510Z",
     "iopub.status.idle": "2024-07-29T20:04:48.976176Z",
     "shell.execute_reply": "2024-07-29T20:04:48.975291Z"
    },
    "papermill": {
     "duration": 0.271021,
     "end_time": "2024-07-29T20:04:48.978081",
     "exception": false,
     "start_time": "2024-07-29T20:04:48.707060",
     "status": "completed"
    },
    "tags": []
   },
   "outputs": [
    {
     "data": {
      "image/png": "[encoded data removed]",
      "text/plain": [
       "<Figure size 1000x500 with 2 Axes>"
      ]
     },
     "metadata": {},
     "output_type": "display_data"
    }
   ],
   "source": [
    "context_size = 8\n",
    "d_q = d_k = d_v = 64\n",
    "\n",
    "Qs = torch.normal(torch.zeros((context_size, d_q)), torch.ones((context_size, d_q)))\n",
    "Ks = torch.normal(torch.zeros((context_size, d_k)), torch.ones((context_size, d_k)))\n",
    "Vs = torch.normal(torch.zeros((context_size, d_v)), torch.ones((context_size, d_v)))\n",
    "Wo = torch.normal(torch.zeros((d_v, context_size)), torch.ones((d_v, context_size)))\n",
    "\n",
    "score = unmasked_attention_score(Qs, Ks, Vs)\n",
    "att = score @ Wo\n",
    "\n",
    "fig, ax = plt.subplots(1, 2, figsize=(10, 5))\n",
    "\n",
    "ax[0].imshow(score.numpy())\n",
    "ax[0].set_title(\"Attention score (before Wo)\")\n",
    "\n",
    "ax[1].imshow(att.numpy())\n",
    "ax[1].set_title(\"Attention (after Wo)\")\n",
    "\n",
    "plt.show()"
   ]
  },
  {
   "cell_type": "markdown",
   "id": "858be0fe",
   "metadata": {
    "papermill": {
     "duration": 0.015138,
     "end_time": "2024-07-29T20:04:48.016560",
     "exception": false,
     "start_time": "2024-07-29T20:04:48.001422",
     "status": "completed"
    },
    "tags": []
   },
   "source": [
    "### Attention mask"
   ]
  },
  {
   "cell_type": "markdown",
   "id": "7aa14bd8",
   "metadata": {
    "papermill": {
     "duration": 0.015048,
     "end_time": "2024-07-29T20:04:48.046889",
     "exception": false,
     "start_time": "2024-07-29T20:04:48.031841",
     "status": "completed"
    },
    "tags": []
   },
   "source": [
    "The transformer is an autoregressive model, which means that it predicts one token at a time, and then it uses previous tokens to predict the next one, and so on, iteratively. In the training environment, the naive way to do this is to take an input sequence $X \\in \\mathbb{R}^N$, then use $X_{1:N-1}$  to predict $X_N$. This alone would be sample inefficient, so we can create a set of training examples from a single sequence of the form $\\mathcal{T} = \\{(X_{1:1}, X_2), (X_{1:2}, X_3), \\dots, (X_{1:N-1}, X_N)\\}$. Finally, instead of running each of these test cases one by one, we can run all at once if we can block information from flowing rightwards in the network, so that only past tokens are used to predict future tokens.\n",
    "\n",
    "This is exactly where masking comes in: It sets the attention score before softmax to $-\\inf$, so probabilities will be non-zero only for current and past tokens in the sequence. Therefore, at the final layer of the network, we'll have predictions for each token of the input, each prediction using only information from past tokens. Next we sum up the errors and use it all at once as our loss.\n",
    "\n",
    "OBS 1: You may have noticed I said we only allow past *and current* token attention scores to be used for the prediction, so the network could cheat and just repeat the token itself for the prediction. To prevent this, we shift the input sequence one position to the right by adding a start token \\<s\\>. To make the sequences equal length and teach the network when to stop generating text, we also add an end token <\\s> to the target:\n",
    "\n",
    "<table>\n",
    "  <tr>\n",
    "    <td><b>Input</b></td>\n",
    "    <td>&lt;s&gt;</td>\n",
    "    <td>Hi</td>\n",
    "    <td>,</td>\n",
    "    <td>My</td>\n",
    "    <td>Name</td>\n",
    "    <td>Is</td>\n",
    "    <td>Sam</td>\n",
    "    <td>!</td>\n",
    "  </tr>\n",
    "  <tr>\n",
    "    <td><b>Prediction</b></td>\n",
    "    <td>Hi</td>\n",
    "    <td>,</td>\n",
    "    <td>My</td>\n",
    "    <td>Name</td>\n",
    "    <td>Is</td>\n",
    "    <td>Sam</td>\n",
    "    <td>!</td>\n",
    "    <td>&lt;/s&gt;</td>\n",
    "  </tr>\n",
    "</table>\n",
    "\n",
    "\n",
    "OBS 2: When I first learned about masking, I wondered why we would mask some tokens, if we're trying to predict the last one. I hope this explanation helped clarify that masking is used only during training: With masking, we can predict all tokens in the sequence at the same time, maximizing sample and compute efficiency. At inference time, however, masking is not necessary, since we only use the last position of the output."
   ]
  },
  {
   "cell_type": "code",
   "execution_count": 15,
   "id": "c5563569",
   "metadata": {
    "execution": {
     "iopub.execute_input": "2024-07-29T20:04:48.078484Z",
     "iopub.status.busy": "2024-07-29T20:04:48.078192Z",
     "iopub.status.idle": "2024-07-29T20:04:48.084231Z",
     "shell.execute_reply": "2024-07-29T20:04:48.083437Z"
    },
    "papermill": {
     "duration": 0.02407,
     "end_time": "2024-07-29T20:04:48.086147",
     "exception": false,
     "start_time": "2024-07-29T20:04:48.062077",
     "status": "completed"
    },
    "tags": []
   },
   "outputs": [],
   "source": [
    "def make_mask(mask: torch.tensor):\n",
    "    \"\"\" Create a mask to hide the future tokens in a sequence.\n",
    "\n",
    "    Args:\n",
    "        mask (torch.tensor): A tensor of shape (batch_size, seq_len) containing 1s and 0s.\n",
    "    \"\"\"\n",
    "    seq_len = mask.shape[-1]\n",
    "    batch_size = mask.shape[-2]\n",
    "\n",
    "    full_masks = torch.stack([torch.tril(torch.ones((seq_len, seq_len))) for _ in range(batch_size)]).long()\n",
    "    full_masks = full_masks.to(mask.device) * mask.unsqueeze(1)\n",
    "    \n",
    "    return full_masks"
   ]
  },
  {
   "cell_type": "markdown",
   "id": "70ea43bd",
   "metadata": {},
   "source": [
    "Not all sequences in the training set will have the same size, but we will train in batches. For this end, we will pad pad the sequences to the same size. Since padding shouldn't be used to compute the attention score, sometimes we'll mask it."
   ]
  },
  {
   "cell_type": "code",
   "execution_count": 16,
   "id": "047543cb",
   "metadata": {
    "execution": {
     "iopub.execute_input": "2024-07-29T20:04:48.117611Z",
     "iopub.status.busy": "2024-07-29T20:04:48.117359Z",
     "iopub.status.idle": "2024-07-29T20:04:48.555782Z",
     "shell.execute_reply": "2024-07-29T20:04:48.554549Z"
    },
    "papermill": {
     "duration": 0.45643,
     "end_time": "2024-07-29T20:04:48.557862",
     "exception": false,
     "start_time": "2024-07-29T20:04:48.101432",
     "status": "completed"
    },
    "tags": []
   },
   "outputs": [
    {
     "data": {
      "image/png": "[encoded data removed]",
      "text/plain": [
       "<Figure size 1000x500 with 2 Axes>"
      ]
     },
     "metadata": {},
     "output_type": "display_data"
    }
   ],
   "source": [
    "masks = make_mask(torch.tensor([[1,1,1,1,1,1,1,1], [1,1,1,1,0,0,0,0]]))\n",
    "\n",
    "fig, ax = plt.subplots(1, 2, figsize=(10, 5))\n",
    "\n",
    "ax[0].imshow(masks[0].cpu().numpy())\n",
    "ax[1].imshow(masks[1].cpu().numpy())\n",
    "plt.show()"
   ]
  },
  {
   "cell_type": "markdown",
   "id": "5a8902f5",
   "metadata": {
    "papermill": {
     "duration": 0.015423,
     "end_time": "2024-07-29T20:04:49.009203",
     "exception": false,
     "start_time": "2024-07-29T20:04:48.993780",
     "status": "completed"
    },
    "tags": []
   },
   "source": [
    "### Multihead Attention\n",
    "\n",
    "Instead of using only one attention head, the authors proposed using multiple heads, which allows the model to learn different attention patterns over a sentence. To that end, we'll now have independent $W_q \\in \\mathbb{R}^{d_{model} \\times d_{q}}, W_k \\in \\mathbb{R}^{d_{model} \\times d_{k}}, W_v \\in \\mathbb{R}^{d_{model} \\times d_{v}}$ matrices for each head, with $d_q,\\ d_k,\\, d_v$ arbitrarily set to $\\frac{d_{model}}{n_{heads}}$ in the paper as a mean to keep total compute constant.\n",
    "\n",
    "The result is then concatenated, which gives $$MultiAtt(X) = concat(Att_1(X), Att_2(X), \\dots, Att_{n_{heads}}(X))$$\n",
    "\n",
    "The multihead attention allows for higher parallelization and lets the network learn multiple attention patterns from input sequences."
   ]
  },
  {
   "cell_type": "code",
   "execution_count": 17,
   "id": "1825e972",
   "metadata": {
    "execution": {
     "iopub.execute_input": "2024-07-29T20:04:49.041719Z",
     "iopub.status.busy": "2024-07-29T20:04:49.041427Z",
     "iopub.status.idle": "2024-07-29T20:04:49.051285Z",
     "shell.execute_reply": "2024-07-29T20:04:49.050277Z"
    },
    "papermill": {
     "duration": 0.028481,
     "end_time": "2024-07-29T20:04:49.053314",
     "exception": false,
     "start_time": "2024-07-29T20:04:49.024833",
     "status": "completed"
    },
    "tags": []
   },
   "outputs": [],
   "source": [
    "def multihead_attention(\n",
    "        Qs: torch.tensor, Ks: torch.tensor, Vs: torch.tensor,\n",
    "        *,\n",
    "        mask: torch.tensor,\n",
    "    ) -> torch.tensor:\n",
    "    \"\"\" Compute the multi-head attention between two sequences of vectors.\n",
    "\n",
    "    Args:\n",
    "        Qs (torch.tensor): A tensor of shape (batch, n_heads, context_size, d_model/n_heads) containing the queries.\n",
    "        Ks (torch.tensor): A tensor of shape (batch, n_heads, context_size, d_model/n_heads) containing the keys.\n",
    "        Vs (torch.tensor): A tensor of shape (batch, n_heads, context_size, d_model/n_heads) containing the values.\n",
    "        n_heads (int): The number of heads to use in the multi-head attention.\n",
    "        mask (torch.tensor): A tensor of shape (batch, context_size) containing the mask to apply to the attention score\n",
    "    \"\"\"\n",
    "    # Get the batch_size, number of heads and the context_size\n",
    "    batch = Qs.shape[0]\n",
    "    n_heads = Qs.shape[1]\n",
    "    context_size = Qs.shape[2]\n",
    "\n",
    "    # Resize mask to (batch, n_heads, context_size, context_size)\n",
    "    mask = make_mask(mask)\n",
    "    mask = mask.unsqueeze(1).repeat(1, n_heads, 1, 1)\n",
    "\n",
    "    # Compute the attention score with shape (batch, n_heads, context_size, d_model)\n",
    "    att = attention_score(Qs, Ks, Vs, mask)\n",
    "\n",
    "    # Concatenate along the n_heads dimension\n",
    "    att = att.permute(0, 2, 1, 3).reshape(batch, context_size, -1)\n",
    "\n",
    "    return att\n",
    "\n",
    "def attention_score(Qs: torch.tensor, Ks: torch.tensor, Vs: torch.tensor, mask: torch.tensor) -> torch.tensor:\n",
    "    \"\"\" Compute the attention score between two sequences of vectors.\n",
    "\n",
    "    Args:   \n",
    "        Q (torch.tensor): A tensor of shape (batch_size, n_heads, context_size, d_q) containing the queries.\n",
    "        K (torch.tensor): A tensor of shape (batch_size, n_heads, context_size, d_k) containing the keys.\n",
    "        V (torch.tensor): A tensor of shape (batch_size, n_heads, context_size, d_v) containing the values.\n",
    "        mask (torch.tensor): A tensor of shape (batch_size, n_heads, context_size, context_size) containing the mask to apply to the attention score\n",
    "    \"\"\"\n",
    "    d_q = Qs.shape[-2] # = d_k = d_model/n_heads\n",
    "\n",
    "    qk = Qs @ torch.transpose(Ks, -1, -2) / d_q**.5\n",
    "    qk = torch.where(mask == 0, -1e9, qk)\n",
    "    \n",
    "    att = torch.softmax(qk, dim=-1) @ Vs\n",
    "    \n",
    "    return att"
   ]
  },
  {
   "cell_type": "code",
   "execution_count": 18,
   "id": "bd4de330",
   "metadata": {
    "execution": {
     "iopub.execute_input": "2024-07-29T20:04:49.085670Z",
     "iopub.status.busy": "2024-07-29T20:04:49.085393Z",
     "iopub.status.idle": "2024-07-29T20:04:49.285683Z",
     "shell.execute_reply": "2024-07-29T20:04:49.284829Z"
    },
    "papermill": {
     "duration": 0.218817,
     "end_time": "2024-07-29T20:04:49.287680",
     "exception": false,
     "start_time": "2024-07-29T20:04:49.068863",
     "status": "completed"
    },
    "tags": []
   },
   "outputs": [
    {
     "name": "stdout",
     "output_type": "stream",
     "text": [
      "att.shape=torch.Size([1, 8, 64])\n"
     ]
    },
    {
     "data": {
      "image/png": "[encoded data removed]",
      "text/plain": [
       "<Figure size 640x480 with 1 Axes>"
      ]
     },
     "metadata": {},
     "output_type": "display_data"
    }
   ],
   "source": [
    "mask = torch.tensor([[1,1,1,1,1,1,0,0]])\n",
    "\n",
    "Qs = torch.normal(torch.zeros((1, 2, 8, 32)), torch.ones((1, 2, 8, 32)))\n",
    "Ks = torch.normal(torch.zeros((1, 2, 8, 32)), torch.ones((1, 2, 8, 32)))\n",
    "Vs = torch.normal(torch.zeros((1, 2, 8, 32)), torch.ones((1, 2, 8, 32)))\n",
    "\n",
    "att = multihead_attention(Qs, Ks, Vs, mask=mask)\n",
    "print(f\"{att.shape=}\")\n",
    "\n",
    "plt.imshow(att[0].numpy())\n",
    "plt.show()"
   ]
  },
  {
   "cell_type": "markdown",
   "id": "c6234b0c",
   "metadata": {
    "papermill": {
     "duration": 0.015747,
     "end_time": "2024-07-29T20:04:49.358912",
     "exception": false,
     "start_time": "2024-07-29T20:04:49.343165",
     "status": "completed"
    },
    "tags": []
   },
   "source": [
    "## Positional embedding"
   ]
  },
  {
   "cell_type": "markdown",
   "id": "7fb4a4af",
   "metadata": {
    "papermill": {
     "duration": 0.0159,
     "end_time": "2024-07-29T20:04:49.390684",
     "exception": false,
     "start_time": "2024-07-29T20:04:49.374784",
     "status": "completed"
    },
    "tags": []
   },
   "source": [
    "After the [tokenization](##Tokenization) and text embedding, we are left with a matrix $X \\in \\mathbb{R}^{n\\_context \\times d\\_model}$, each row representing a token in the embedding space, which will be the input to our model. However, due to its nature, it can't know where each token is, which means equal tokens will be computed equal values throughout all the attention and dense layers, and will output equal probabilities. For instance, in the sentence \"I love my new book my friend recommended me\", the tokens 'my' will be the same, despite having distinct semantic meanings: the first 'my' refers to 'new book', and the second 'my' refers to 'friend'. For that reason, we add positional information to X thought a positional embedding matrix.\n",
    "\n",
    "The positional encoding is simply a cosine and a sine function applied to different positions in the $X$ matrix, following the formula\n",
    "\n",
    "$$ \\begin{aligned}\n",
    "\n",
    "PE_{(pos, 2i)}&=sin\\left(\\frac{pos}{10000^{2i / d_{model}}}\\right) \\\\\n",
    "PE_{(pos, 2i+1)}&=cos\\left(\\frac{pos}{10000^{2i / d_{model}}}\\right)\n",
    "\n",
    "\\end{aligned}\n",
    "$$\n",
    "\n",
    "where $pos$ is the position in the sequence and $i$ is the dimension.\n",
    "\n",
    "<details>\n",
    "\n",
    "Let $X$ be our input matrix. Suppose $X_i = X_j$ and let $S$ be the right-most side of the attention equation, before multiplying the softmax score by V. Then $$S_i = softmax\\left(\\frac{Q_i K^T}{d_{model}} \\right) = softmax\\left(\\frac{Q_j K^T}{d_{model}} \\right) = S_j$$\n",
    "\n",
    "where $S_i$ and $S_j$ are rows of $S$. After the attention head we'll have\n",
    "\n",
    "$$Att_i = S_iV = S_jV = Attj$$\n",
    "\n",
    "Since rows are computed independently in the dense layers, $$DNN(Att_i) = DNN(Att_j)$$\n",
    "\n",
    "And we would end up with the same output for both tokens. It's fairly easy to check this by yourself: just comment the line that adds the positional embedding in the transformer class below, create an input sequence with repeated vectors, and check that the outputs will be the same for them.\n",
    "\n",
    "</details>"
   ]
  },
  {
   "cell_type": "code",
   "execution_count": 19,
   "id": "efde5e5f",
   "metadata": {
    "execution": {
     "iopub.execute_input": "2024-07-29T20:04:49.424254Z",
     "iopub.status.busy": "2024-07-29T20:04:49.423447Z",
     "iopub.status.idle": "2024-07-29T20:04:49.430014Z",
     "shell.execute_reply": "2024-07-29T20:04:49.429182Z"
    },
    "papermill": {
     "duration": 0.025381,
     "end_time": "2024-07-29T20:04:49.431886",
     "exception": false,
     "start_time": "2024-07-29T20:04:49.406505",
     "status": "completed"
    },
    "tags": []
   },
   "outputs": [],
   "source": [
    "def add_positional_emb(word_matrix: torch.tensor):\n",
    "    \"\"\" Add positional embeddings to a word matrix.\n",
    "\n",
    "    Args:\n",
    "        word_matrix (torch.tensor): A tensor of shape (batch_size, context_size, d_model) containing the word vectors.\n",
    "    \"\"\"\n",
    "    d_context = word_matrix.shape[-2]\n",
    "    d_model = word_matrix.shape[-1]\n",
    "    \n",
    "    pos = torch.stack([torch.arange(d_context)] * d_model).T\n",
    "    idx = torch.stack([torch.arange(d_model)] * d_context)\n",
    "    \n",
    "    pos_emb = torch.where(\n",
    "        idx % 2 == 0, \n",
    "        torch.sin(pos/10_000**(2*idx/d_model)),\n",
    "        torch.cos(pos/10_000**(2*idx/d_model))\n",
    "    )\n",
    "    \n",
    "    pos_emb = pos_emb.to(word_matrix.device)\n",
    "    \n",
    "    return word_matrix + pos_emb"
   ]
  },
  {
   "cell_type": "code",
   "execution_count": 20,
   "id": "4708105b",
   "metadata": {
    "execution": {
     "iopub.execute_input": "2024-07-29T20:04:49.464746Z",
     "iopub.status.busy": "2024-07-29T20:04:49.464477Z",
     "iopub.status.idle": "2024-07-29T20:04:49.837758Z",
     "shell.execute_reply": "2024-07-29T20:04:49.836884Z"
    },
    "papermill": {
     "duration": 0.392805,
     "end_time": "2024-07-29T20:04:49.840564",
     "exception": false,
     "start_time": "2024-07-29T20:04:49.447759",
     "status": "completed"
    },
    "tags": []
   },
   "outputs": [
    {
     "data": {
      "image/png": "[encoded data removed]",
      "text/plain": [
       "<Figure size 640x480 with 1 Axes>"
      ]
     },
     "metadata": {},
     "output_type": "display_data"
    }
   ],
   "source": [
    "plt.imshow(add_positional_emb(torch.zeros((1, 200,400)).to(device)).cpu()[0].numpy())\n",
    "plt.show()"
   ]
  },
  {
   "cell_type": "markdown",
   "id": "86d63198",
   "metadata": {
    "papermill": {
     "duration": 0.017441,
     "end_time": "2024-07-29T20:04:49.875603",
     "exception": false,
     "start_time": "2024-07-29T20:04:49.858162",
     "status": "completed"
    },
    "tags": []
   },
   "source": [
    "## Decoder block"
   ]
  },
  {
   "cell_type": "markdown",
   "id": "a95dc9c1",
   "metadata": {},
   "source": [
    "As described before, the decoder-only transformer is composed of several blocks of decoders. Each decoder receives as input $X$, creates the Q, K and V matrices using $W_q$, $W_k$ and $W_v$, applies the attention, brings $X$ back to $d\\_model$ using $W_o$ and applies the feed forward token-wise. Between the sublayers are the skip connections (previous layer output + X in lines 60 and 63) and the batch normalization*.\n",
    "\n",
    "\\* I'm pretty sure the sum should be actually inside the batch norm, but I already trained the network this way and it seems to work, so I won't change because it would take too long to train it again."
   ]
  },
  {
   "cell_type": "code",
   "execution_count": 21,
   "id": "e5159e39",
   "metadata": {
    "execution": {
     "iopub.execute_input": "2024-07-29T20:04:49.911323Z",
     "iopub.status.busy": "2024-07-29T20:04:49.911011Z",
     "iopub.status.idle": "2024-07-29T20:04:49.923420Z",
     "shell.execute_reply": "2024-07-29T20:04:49.922632Z"
    },
    "papermill": {
     "duration": 0.032687,
     "end_time": "2024-07-29T20:04:49.925436",
     "exception": false,
     "start_time": "2024-07-29T20:04:49.892749",
     "status": "completed"
    },
    "tags": []
   },
   "outputs": [],
   "source": [
    "class Decoder(nn.Module):\n",
    "    \n",
    "    def __init__(self, d_model, n_heads, d_ff, dropout):\n",
    "        super().__init__()\n",
    "        self.n_heads = n_heads\n",
    "        \n",
    "        ### Attention sublayer\n",
    "        # Attention matrices with shape (d_model, d_model)\n",
    "        Wqs = torch.normal(torch.zeros((d_model,d_model)), torch.ones((d_model,d_model)))\n",
    "        Wks = torch.normal(torch.zeros((d_model,d_model)), torch.ones((d_model,d_model)))\n",
    "        Wvs = torch.normal(torch.zeros((d_model,d_model)), torch.ones((d_model,d_model)))\n",
    "\n",
    "        # Reshape matrices to (n_heads, d_model, d_model/n_heads)\n",
    "        self.Wqs = nn.Parameter(Wqs.reshape(n_heads, d_model, d_model // n_heads))\n",
    "        self.Wks = nn.Parameter(Wks.reshape(n_heads, d_model, d_model // n_heads))\n",
    "        self.Wvs = nn.Parameter(Wvs.reshape(n_heads, d_model, d_model // n_heads))\n",
    "        \n",
    "        # Output matrix with shape (d_model, d_model)\n",
    "        self.Wo = nn.Parameter(torch.normal(torch.zeros((d_model,d_model)), torch.ones((d_model,d_model))))\n",
    "\n",
    "\n",
    "        ### Feed forward sublayer\n",
    "        # Feed forward\n",
    "        self.ffn = nn.Sequential(\n",
    "            nn.Linear(d_model, d_ff),\n",
    "            nn.ReLU(),\n",
    "            nn.Linear(d_ff, d_model)\n",
    "        )\n",
    "        \n",
    "        \n",
    "        ### LayerNorm\n",
    "        # LayerNorm\n",
    "        self.layer_norm_1 = nn.LayerNorm(d_model)\n",
    "        self.layer_norm_2 = nn.LayerNorm(d_model)\n",
    "        \n",
    "        # dropout\n",
    "        self.dropout = nn.Dropout(p=dropout)\n",
    "        \n",
    "    def forward(self, X: torch.tensor, mask: torch.tensor):\n",
    "        \"\"\" Forward pass of the decoder.\n",
    "\n",
    "        Args:\n",
    "            X (torch.tensor): A tensor of shape (batch, context, d_model) containing the input.\n",
    "            mask (torch.tensor): A tensor of shape (batch_size, context) containing the mask to apply to the attention score\n",
    "        \"\"\"\n",
    "        # Add a dimension for the heads (batch, 1, context, d_model)\n",
    "        X = X.unsqueeze(1)\n",
    "\n",
    "        # Shapes after matmul are (batch, n_heads, context, d_model/n_heads)\n",
    "        Qs = X @ self.Wqs\n",
    "        Ks = X @ self.Wks\n",
    "        Vs = X @ self.Wvs\n",
    "        \n",
    "        # output from multihead attention has shape (batch, context, d_model)\n",
    "        attention = multihead_attention(Qs, Ks, Vs, mask=mask)\n",
    "\n",
    "        attention = attention @ self.Wo\n",
    "\n",
    "        # squeeze the n_head dimension from X and make the skip connection\n",
    "        normalized_1 = self.dropout(self.layer_norm_1(attention)) + X.squeeze(1)\n",
    "\n",
    "        feed_forward = self.ffn(normalized_1)\n",
    "        normalized_2 = self.dropout(self.layer_norm_2(feed_forward)) + normalized_1\n",
    "\n",
    "        return normalized_2"
   ]
  },
  {
   "cell_type": "code",
   "execution_count": 28,
   "id": "3a450c08",
   "metadata": {
    "execution": {
     "iopub.execute_input": "2024-07-29T20:04:49.960827Z",
     "iopub.status.busy": "2024-07-29T20:04:49.960566Z",
     "iopub.status.idle": "2024-07-29T20:04:49.981243Z",
     "shell.execute_reply": "2024-07-29T20:04:49.980094Z"
    },
    "papermill": {
     "duration": 0.040695,
     "end_time": "2024-07-29T20:04:49.983252",
     "exception": false,
     "start_time": "2024-07-29T20:04:49.942557",
     "status": "completed"
    },
    "tags": []
   },
   "outputs": [
    {
     "name": "stdout",
     "output_type": "stream",
     "text": [
      "x.shape=torch.Size([1, 3, 8])\n",
      "target.shape=torch.Size([1, 3, 8])\n"
     ]
    }
   ],
   "source": [
    "decoder = Decoder(d_model=8, n_heads=2, d_ff=64, dropout=0)\n",
    "\n",
    "x = torch.normal(torch.zeros((1, 3, 8)), torch.ones((1, 3, 8)))\n",
    "mask = torch.tensor([[1,1,1]])\n",
    "target = decoder(x, mask=mask)\n",
    "print(f\"{x.shape=}\")\n",
    "print(f\"{target.shape=}\")"
   ]
  },
  {
   "cell_type": "markdown",
   "id": "a36cbba6",
   "metadata": {
    "execution": {
     "iopub.execute_input": "2024-05-20T14:24:47.975108Z",
     "iopub.status.busy": "2024-05-20T14:24:47.974197Z",
     "iopub.status.idle": "2024-05-20T14:24:48.012772Z",
     "shell.execute_reply": "2024-05-20T14:24:48.011551Z",
     "shell.execute_reply.started": "2024-05-20T14:24:47.975072Z"
    },
    "papermill": {
     "duration": 0.017233,
     "end_time": "2024-07-29T20:04:50.020084",
     "exception": false,
     "start_time": "2024-07-29T20:04:50.002851",
     "status": "completed"
    },
    "tags": []
   },
   "source": [
    "## Transformer\n",
    "\n",
    "The transformer class just puts all we have seen until now together."
   ]
  },
  {
   "cell_type": "code",
   "execution_count": 30,
   "id": "b48b6cba",
   "metadata": {
    "execution": {
     "iopub.execute_input": "2024-07-29T20:04:50.056584Z",
     "iopub.status.busy": "2024-07-29T20:04:50.055832Z",
     "iopub.status.idle": "2024-07-29T20:04:50.063960Z",
     "shell.execute_reply": "2024-07-29T20:04:50.063084Z"
    },
    "papermill": {
     "duration": 0.028501,
     "end_time": "2024-07-29T20:04:50.065963",
     "exception": false,
     "start_time": "2024-07-29T20:04:50.037462",
     "status": "completed"
    },
    "tags": []
   },
   "outputs": [],
   "source": [
    "class Trasformer(nn.Module):\n",
    "    \n",
    "    def __init__(self, *,  blocks, vocab_size, d_model, n_heads, d_ff, dropout):\n",
    "        super().__init__()\n",
    "        \n",
    "        self.emb = nn.Embedding(num_embeddings=vocab_size, embedding_dim=d_model)\n",
    "        \n",
    "        self.decoders = nn.ModuleList()\n",
    "        for _  in range(blocks):\n",
    "            self.decoders.append(Decoder(d_model, n_heads, d_ff, dropout))\n",
    "            \n",
    "        self.linear = nn.Linear(d_model, vocab_size)\n",
    "        self.softmax = nn.Softmax(dim=-1)\n",
    "    \n",
    "    def forward(self, x, mask):\n",
    "        \"\"\" Forward pass of the transformer.\n",
    "\n",
    "        Args:\n",
    "            x (torch.tensor): A tensor of shape (batch, context_size) containing the input.\n",
    "            mask (torch.tensor): A tensor of shape (batch, context_size) containing the mask to apply to the attention\n",
    "        \"\"\"\n",
    "        # After embedding, x has shape (batch, context_size, d_model)\n",
    "        x = self.emb(x)\n",
    "        x = add_positional_emb(x)\n",
    "        \n",
    "        # Go through the decoders. input and output shapes are (batch, context_size, d_model)\n",
    "        for decoder in self.decoders:\n",
    "            x = decoder(x, mask)\n",
    "\n",
    "        # Linear layer\n",
    "        logits = self.linear(x)\n",
    "\n",
    "        # shape is (batch, context_size, vocab_size)\n",
    "        return logits\n",
    "        "
   ]
  },
  {
   "cell_type": "code",
   "execution_count": 16,
   "id": "1e0cad96",
   "metadata": {
    "execution": {
     "iopub.execute_input": "2024-07-29T20:04:50.102228Z",
     "iopub.status.busy": "2024-07-29T20:04:50.101564Z",
     "iopub.status.idle": "2024-07-29T20:04:50.118723Z",
     "shell.execute_reply": "2024-07-29T20:04:50.117835Z"
    },
    "papermill": {
     "duration": 0.037418,
     "end_time": "2024-07-29T20:04:50.120649",
     "exception": false,
     "start_time": "2024-07-29T20:04:50.083231",
     "status": "completed"
    },
    "tags": []
   },
   "outputs": [
    {
     "name": "stdout",
     "output_type": "stream",
     "text": [
      "target.shape=torch.Size([1, 3, 10])\n"
     ]
    }
   ],
   "source": [
    "transformer = Trasformer(blocks=2, vocab_size=10, d_model=8, n_heads=2, d_ff=64, dropout=0)\n",
    "\n",
    "x = torch.randint(0, 10, (1, 3))\n",
    "mask = torch.tensor([[1,1,1]])\n",
    "\n",
    "target = transformer(x, mask=mask)\n",
    "print(f\"{target.shape=}\")"
   ]
  },
  {
   "cell_type": "markdown",
   "id": "4eb3a589",
   "metadata": {
    "papermill": {
     "duration": 0.017281,
     "end_time": "2024-07-29T20:04:50.156012",
     "exception": false,
     "start_time": "2024-07-29T20:04:50.138731",
     "status": "completed"
    },
    "tags": []
   },
   "source": [
    "## Loss\n",
    "\n",
    "We'll use cross entropy as our loss. The label smoothing argument adds uncertainty to the model: the target classes will never have probability 1 (unless label smoothing is set to 0). This encourages the model to explore more labels. The ignore index argument add the possibility to ignore some class in the loss. We'll use it to ignore the paddings."
   ]
  },
  {
   "cell_type": "code",
   "execution_count": 17,
   "id": "8918d477",
   "metadata": {
    "execution": {
     "iopub.execute_input": "2024-07-29T20:04:50.192738Z",
     "iopub.status.busy": "2024-07-29T20:04:50.192090Z",
     "iopub.status.idle": "2024-07-29T20:04:50.197731Z",
     "shell.execute_reply": "2024-07-29T20:04:50.196917Z"
    },
    "papermill": {
     "duration": 0.025819,
     "end_time": "2024-07-29T20:04:50.199568",
     "exception": false,
     "start_time": "2024-07-29T20:04:50.173749",
     "status": "completed"
    },
    "tags": []
   },
   "outputs": [],
   "source": [
    "def cross_entropy_loss(logits: torch.tensor, target: torch.tensor, label_smoothing=0, ignore_index=-100):\n",
    "    \"\"\" Compute the cross entropy loss between the logits and the target.\n",
    "\n",
    "    Args:\n",
    "        logits (torch.tensor): A tensor of shape (batch, context, vocab_size) containing the logits.\n",
    "        target (torch.tensor): A tensor of shape (batch, context) containing the target.\n",
    "        label_smoothing (float): The label smoothing factor.\n",
    "        ignore_index (int): The index to ignore in the loss computation.\n",
    "    \"\"\"\n",
    "    batch_size, context, vocab_size = logits.shape\n",
    "\n",
    "    # Flatten the logits and target\n",
    "    logits = logits.view(-1, vocab_size)\n",
    "    target = target.view(-1)\n",
    "\n",
    "    loss = F.cross_entropy(logits, target, ignore_index=ignore_index, label_smoothing=label_smoothing)\n",
    "\n",
    "    return loss"
   ]
  },
  {
   "cell_type": "markdown",
   "id": "03c15efe",
   "metadata": {
    "papermill": {
     "duration": 0.017303,
     "end_time": "2024-07-29T20:04:50.234169",
     "exception": false,
     "start_time": "2024-07-29T20:04:50.216866",
     "status": "completed"
    },
    "tags": []
   },
   "source": [
    "# Dummy problem\n",
    "\n",
    "As a dummy problem, we'll create sequences of numbers and mirror them. Then, we'll train the transformer to predict the complete sequence. Because of masking, it should only be able to guess the second half (when the first half of the sequence, with the tokens that will be mirrored, has already been seen), and therefore reach an accuracy just above 50% (it can still get some numbers right by chance in the first half). Note that in this dummy problem, we are not shifting the sequence to the left with the start and end tokens."
   ]
  },
  {
   "cell_type": "markdown",
   "id": "c513fc2f",
   "metadata": {
    "papermill": {
     "duration": 0.017141,
     "end_time": "2024-07-29T20:04:50.268689",
     "exception": false,
     "start_time": "2024-07-29T20:04:50.251548",
     "status": "completed"
    },
    "tags": []
   },
   "source": [
    "## Data"
   ]
  },
  {
   "cell_type": "code",
   "execution_count": 18,
   "id": "a467fad2",
   "metadata": {
    "execution": {
     "iopub.execute_input": "2024-07-29T20:04:50.304880Z",
     "iopub.status.busy": "2024-07-29T20:04:50.304362Z",
     "iopub.status.idle": "2024-07-29T20:04:50.317066Z",
     "shell.execute_reply": "2024-07-29T20:04:50.315713Z"
    },
    "papermill": {
     "duration": 0.033137,
     "end_time": "2024-07-29T20:04:50.319105",
     "exception": false,
     "start_time": "2024-07-29T20:04:50.285968",
     "status": "completed"
    },
    "tags": []
   },
   "outputs": [
    {
     "name": "stdout",
     "output_type": "stream",
     "text": [
      "Training observations: 7000\n",
      "Validation observations: 3000\n",
      "\n",
      "x: 53128682\n",
      "y: 28682135\n"
     ]
    }
   ],
   "source": [
    "x = np.random.randint(0, 10, (10_000, 8))\n",
    "x = torch.tensor(x).long()\n",
    "\n",
    "idx_train = int(len(x) * .7)\n",
    "\n",
    "train_data = x[:idx_train]\n",
    "val_data = x[idx_train:]\n",
    "\n",
    "train_dataloader = DataLoader(train_data, batch_size=32, shuffle=True)\n",
    "val_dataloader = DataLoader(val_data, batch_size=32, shuffle=False)\n",
    "\n",
    "print(f\"Training observations: {len(train_data)}\")\n",
    "print(f\"Validation observations: {len(val_data)}\")\n",
    "print()\n",
    "\n",
    "print(\"x:\", \"\".join((train_data[0]).numpy().astype(str)))\n",
    "print(\"y:\", \"\".join((train_data[0].flip(-1)).numpy().astype(str)))"
   ]
  },
  {
   "cell_type": "code",
   "execution_count": 19,
   "id": "a0fb5143",
   "metadata": {
    "execution": {
     "iopub.execute_input": "2024-07-29T20:04:50.356649Z",
     "iopub.status.busy": "2024-07-29T20:04:50.356284Z",
     "iopub.status.idle": "2024-07-29T20:04:50.716091Z",
     "shell.execute_reply": "2024-07-29T20:04:50.714829Z"
    },
    "papermill": {
     "duration": 0.381812,
     "end_time": "2024-07-29T20:04:50.718339",
     "exception": false,
     "start_time": "2024-07-29T20:04:50.336527",
     "status": "completed"
    },
    "tags": []
   },
   "outputs": [
    {
     "name": "stdout",
     "output_type": "stream",
     "text": [
      "pred.shape=torch.Size([1, 8, 10])\n",
      "Prediction: 63635806\n"
     ]
    }
   ],
   "source": [
    "model = Trasformer(blocks=5, \n",
    "                   vocab_size=10, \n",
    "                   d_model=128, \n",
    "                   n_heads=1,\n",
    "                   d_ff=128*4, \n",
    "                   dropout=.5)\n",
    "model = model.to(device)\n",
    "\n",
    "pred = model(train_data[0:1].to(device), mask=torch.ones((1, 8)).long().to(device))\n",
    "print(f\"{pred.shape=}\")\n",
    "print(f\"Prediction: {''.join(pred.argmax(-1).cpu().numpy().astype(str)[0])}\")"
   ]
  },
  {
   "cell_type": "markdown",
   "id": "aef8d1ee",
   "metadata": {
    "papermill": {
     "duration": 0.020088,
     "end_time": "2024-07-29T20:04:50.756658",
     "exception": false,
     "start_time": "2024-07-29T20:04:50.736570",
     "status": "completed"
    },
    "tags": []
   },
   "source": [
    "## Training"
   ]
  },
  {
   "cell_type": "code",
   "execution_count": 20,
   "id": "874c8a09",
   "metadata": {
    "execution": {
     "iopub.execute_input": "2024-07-29T20:04:50.799613Z",
     "iopub.status.busy": "2024-07-29T20:04:50.799162Z",
     "iopub.status.idle": "2024-07-29T20:13:46.544981Z",
     "shell.execute_reply": "2024-07-29T20:13:46.543959Z"
    },
    "papermill": {
     "duration": 535.770227,
     "end_time": "2024-07-29T20:13:46.547431",
     "exception": false,
     "start_time": "2024-07-29T20:04:50.777204",
     "status": "completed"
    },
    "tags": []
   },
   "outputs": [
    {
     "name": "stdout",
     "output_type": "stream",
     "text": [
      "# params: 100746\n",
      "\n",
      "Epoch 0\n",
      "Train loss: 0.08681; Train acc: 10.21%\n",
      "Val loss: 0.07303; Val acc: 13.12%\n",
      "\n",
      "Epoch 10\n",
      "Train loss: 0.06692; Train acc: 20.01%\n",
      "Val loss: 0.06433; Val acc: 21.77%\n",
      "\n",
      "Epoch 20\n",
      "Train loss: 0.06000; Train acc: 27.13%\n",
      "Val loss: 0.05559; Val acc: 32.64%\n",
      "\n",
      "Epoch 30\n",
      "Train loss: 0.05589; Train acc: 32.72%\n",
      "Val loss: 0.05135; Val acc: 39.18%\n",
      "\n",
      "Epoch 40\n",
      "Train loss: 0.05263; Train acc: 37.15%\n",
      "Val loss: 0.04820; Val acc: 42.51%\n",
      "\n",
      "Epoch 50\n",
      "Train loss: 0.05002; Train acc: 40.17%\n",
      "Val loss: 0.04567; Val acc: 45.38%\n",
      "\n",
      "Epoch 60\n",
      "Train loss: 0.04848; Train acc: 42.07%\n",
      "Val loss: 0.04354; Val acc: 47.70%\n",
      "\n",
      "Epoch 70\n",
      "Train loss: 0.04544; Train acc: 45.76%\n",
      "Val loss: 0.04080; Val acc: 50.40%\n",
      "\n",
      "Epoch 80\n",
      "Train loss: 0.04324; Train acc: 48.28%\n",
      "Val loss: 0.03864; Val acc: 52.71%\n",
      "\n",
      "Epoch 90\n",
      "Train loss: 0.04153; Train acc: 50.26%\n",
      "Val loss: 0.03820; Val acc: 53.12%\n",
      "\n",
      "Epoch 100\n",
      "Train loss: 0.04037; Train acc: 51.27%\n",
      "Val loss: 0.03721; Val acc: 54.10%\n",
      "\n",
      "Epoch 110\n",
      "Train loss: 0.03952; Train acc: 52.33%\n",
      "Val loss: 0.03702; Val acc: 54.38%\n",
      "\n",
      "Epoch 120\n",
      "Train loss: 0.03854; Train acc: 53.27%\n",
      "Val loss: 0.03649; Val acc: 54.83%\n",
      "\n",
      "Epoch 130\n",
      "Train loss: 0.03799; Train acc: 53.82%\n",
      "Val loss: 0.03636; Val acc: 54.95%\n",
      "\n",
      "Epoch 140\n",
      "Train loss: 0.03773; Train acc: 54.09%\n",
      "Val loss: 0.03627; Val acc: 54.79%\n",
      "\n",
      "Epoch 150\n",
      "Train loss: 0.03807; Train acc: 53.68%\n",
      "Val loss: 0.03640; Val acc: 54.91%\n",
      "\n",
      "Epoch 160\n",
      "Train loss: 0.03705; Train acc: 54.69%\n",
      "Val loss: 0.03624; Val acc: 55.06%\n",
      "\n",
      "Epoch 170\n",
      "Train loss: 0.03711; Train acc: 54.61%\n",
      "Val loss: 0.03627; Val acc: 55.05%\n",
      "\n",
      "Epoch 180\n",
      "Train loss: 0.03670; Train acc: 54.94%\n",
      "Val loss: 0.03625; Val acc: 55.22%\n",
      "\n",
      "Epoch 190\n",
      "Train loss: 0.03685; Train acc: 54.94%\n",
      "Val loss: 0.03624; Val acc: 55.00%\n",
      "\n",
      "Epoch 200\n",
      "Train loss: 0.03661; Train acc: 55.01%\n",
      "Val loss: 0.03625; Val acc: 55.00%\n",
      "\n",
      "Epoch 210\n",
      "Train loss: 0.03668; Train acc: 55.20%\n",
      "Val loss: 0.03623; Val acc: 55.08%\n",
      "\n",
      "Epoch 220\n",
      "Train loss: 0.03645; Train acc: 55.34%\n",
      "Val loss: 0.03623; Val acc: 54.82%\n",
      "\n",
      "Epoch 230\n",
      "Train loss: 0.03648; Train acc: 55.38%\n",
      "Val loss: 0.03624; Val acc: 54.93%\n",
      "\n",
      "Epoch 240\n",
      "Train loss: 0.03634; Train acc: 55.33%\n",
      "Val loss: 0.03622; Val acc: 54.89%\n",
      "\n",
      "Epoch 250\n",
      "Train loss: 0.03625; Train acc: 55.45%\n",
      "Val loss: 0.03624; Val acc: 54.90%\n",
      "\n",
      "Epoch 260\n",
      "Train loss: 0.03622; Train acc: 55.64%\n",
      "Val loss: 0.03623; Val acc: 54.93%\n",
      "\n",
      "Epoch 270\n",
      "Train loss: 0.03620; Train acc: 55.52%\n",
      "Val loss: 0.03624; Val acc: 54.86%\n",
      "\n",
      "Epoch 280\n",
      "Train loss: 0.03616; Train acc: 55.50%\n",
      "Val loss: 0.03624; Val acc: 55.09%\n",
      "\n",
      "Epoch 290\n",
      "Train loss: 0.03607; Train acc: 55.69%\n",
      "Val loss: 0.03626; Val acc: 54.86%\n",
      "\n"
     ]
    }
   ],
   "source": [
    "model = Trasformer(blocks=2,\n",
    "                   vocab_size=10, \n",
    "                   d_model=64,\n",
    "                   n_heads=4,\n",
    "                   d_ff=64*4, \n",
    "                   dropout=.3)\n",
    "model = model.to(device)\n",
    "print(f\"# params: {sum(p.numel() for p in model.parameters())}\")\n",
    "print()\n",
    "\n",
    "loss_func = cross_entropy_loss\n",
    "opt = torch.optim.Adam(model.parameters(), lr=1)\n",
    "scheduler = torch.optim.lr_scheduler.LinearLR(\n",
    "    optimizer=opt\n",
    ")\n",
    "\n",
    "if os.path.exists(\"model.pth\"):\n",
    "    model.load_state_dict(torch.load(\"model.pth\"))\n",
    "\n",
    "else:\n",
    "    epochs = 300\n",
    "    train_loss, val_loss = [], []\n",
    "    train_acc, val_acc = [], []\n",
    "    for epoch in range(epochs):\n",
    "        \n",
    "        model.train()\n",
    "        total_correct = 0\n",
    "        total_loss = 0\n",
    "        for x in train_dataloader:\n",
    "            opt.zero_grad()\n",
    "\n",
    "            y = x.flip((-1))\n",
    "\n",
    "            x, y = x.to(device), y.to(device)\n",
    "            pred = model(x, torch.ones_like(x).to(device))\n",
    "\n",
    "            loss = loss_func(pred.cpu(), y.cpu())\n",
    "            loss.backward()\n",
    "\n",
    "            opt.step()\n",
    "            scheduler.step()\n",
    "\n",
    "            total_loss += loss.item()\n",
    "            total_correct += (pred.argmax(-1) == y).sum().item()\n",
    "        \n",
    "        train_loss.append(total_loss / len(train_data))\n",
    "        train_acc.append(total_correct / (len(train_data) * 8))\n",
    "\n",
    "        model.eval()\n",
    "        total_correct = 0\n",
    "        total_loss = 0\n",
    "        with torch.no_grad():\n",
    "            for x in val_dataloader:\n",
    "                y = x.flip((-1))\n",
    "\n",
    "                x, y = x.to(device), y.to(device)\n",
    "\n",
    "                pred = model(x, torch.ones_like(x).to(device))\n",
    "\n",
    "                loss = loss_func(pred.cpu(), y.cpu())\n",
    "\n",
    "                total_loss += loss.item()\n",
    "                total_correct += (pred.argmax(-1) == y).sum().item()\n",
    "\n",
    "                \n",
    "        val_loss.append(total_loss / len(val_data))\n",
    "        val_acc.append(total_correct / (len(val_data) * 8))\n",
    "\n",
    "        if epoch % 10 == 0:\n",
    "            print(f\"Epoch {epoch}\")\n",
    "            print(f\"Train loss: {train_loss[epoch]:.5f}; Train acc: {train_acc[epoch]*100:.2f}%\")\n",
    "            print(f\"Val loss: {val_loss[epoch]:.5f}; Val acc: {val_acc[epoch]*100:.2f}%\")\n",
    "            print()\n",
    "\n",
    "    torch.save(model.state_dict(), \"model.pth\")"
   ]
  },
  {
   "cell_type": "markdown",
   "id": "00115d5f",
   "metadata": {
    "papermill": {
     "duration": 0.019977,
     "end_time": "2024-07-29T20:13:46.588316",
     "exception": false,
     "start_time": "2024-07-29T20:13:46.568339",
     "status": "completed"
    },
    "tags": []
   },
   "source": [
    "As expected, the model only achieves around 50% of accuracy, because it can never guess the first half of the sequence."
   ]
  },
  {
   "cell_type": "code",
   "execution_count": 21,
   "id": "93271b7c",
   "metadata": {
    "execution": {
     "iopub.execute_input": "2024-07-29T20:13:46.630906Z",
     "iopub.status.busy": "2024-07-29T20:13:46.630052Z",
     "iopub.status.idle": "2024-07-29T20:13:47.402978Z",
     "shell.execute_reply": "2024-07-29T20:13:47.402032Z"
    },
    "papermill": {
     "duration": 0.796529,
     "end_time": "2024-07-29T20:13:47.405259",
     "exception": false,
     "start_time": "2024-07-29T20:13:46.608730",
     "status": "completed"
    },
    "tags": []
   },
   "outputs": [
    {
     "data": {
      "image/png": "[encoded data removed]",
      "text/plain": [
       "<Figure size 1000x500 with 2 Axes>"
      ]
     },
     "metadata": {},
     "output_type": "display_data"
    }
   ],
   "source": [
    "if not os.path.exists(\"loss_acc.png\"):\n",
    "    metricas = pd.DataFrame({\n",
    "        \"train_loss\": train_loss,\n",
    "        \"val_loss\": val_loss,\n",
    "        \"train_acc\": train_acc,\n",
    "        \"val_acc\": val_acc\n",
    "    })\n",
    "\n",
    "    fig = plt.figure(figsize=(10, 5))\n",
    "\n",
    "    fig = sns.lineplot(data=metricas[[\"train_loss\", \"val_loss\"]], dashes=False, legend=False)\n",
    "    sns.lineplot(data=metricas[[\"train_acc\", \"val_acc\"]], dashes=[(2, 2), (2, 2)], ax=fig.twinx())\n",
    "\n",
    "    fig.set_title(\"Loss and accuracy\")\n",
    "    plt.tight_layout()\n",
    "\n",
    "    plt.savefig(\"loss_acc.png\")\n",
    "    plt.show()\n",
    "\n",
    "else:\n",
    "    plt.figure(figsize=(10, 5))\n",
    "    img = plt.imread(\"loss_acc.png\")\n",
    "    plt.axis('off')\n",
    "    plt.imshow(img)"
   ]
  },
  {
   "cell_type": "code",
   "execution_count": 22,
   "id": "7100e986",
   "metadata": {
    "execution": {
     "iopub.execute_input": "2024-07-29T20:13:47.450840Z",
     "iopub.status.busy": "2024-07-29T20:13:47.450101Z",
     "iopub.status.idle": "2024-07-29T20:13:47.461349Z",
     "shell.execute_reply": "2024-07-29T20:13:47.460418Z"
    },
    "papermill": {
     "duration": 0.036448,
     "end_time": "2024-07-29T20:13:47.463297",
     "exception": false,
     "start_time": "2024-07-29T20:13:47.426849",
     "status": "completed"
    },
    "tags": []
   },
   "outputs": [
    {
     "name": "stdout",
     "output_type": "stream",
     "text": [
      "x:\t 9982 8894\n",
      "pred:\t 2772 2899\n"
     ]
    }
   ],
   "source": [
    "x = np.random.randint(0, 10, (1, 8))\n",
    "print(\"x:\\t\", \"\".join(x[0].astype(str)[:4]) + ' ' + \"\".join(x[0].astype(str)[4:]))\n",
    "\n",
    "x = torch.tensor(x).long().to(device)\n",
    "pred = model(x.to(device), torch.ones_like(x).to(device))\n",
    "pred = pred.argmax(-1).cpu().numpy().astype(str)[0]\n",
    "print(\"pred:\\t\", \"\".join(pred[:4]) + ' ' + \"\".join(pred[4:]))"
   ]
  },
  {
   "cell_type": "markdown",
   "id": "53720cb0",
   "metadata": {
    "execution": {
     "iopub.execute_input": "2024-05-20T14:25:54.059157Z",
     "iopub.status.busy": "2024-05-20T14:25:54.058793Z",
     "iopub.status.idle": "2024-05-20T14:25:54.095190Z",
     "shell.execute_reply": "2024-05-20T14:25:54.094014Z",
     "shell.execute_reply.started": "2024-05-20T14:25:54.059131Z"
    },
    "papermill": {
     "duration": 0.021046,
     "end_time": "2024-07-29T20:13:47.506673",
     "exception": false,
     "start_time": "2024-07-29T20:13:47.485627",
     "status": "completed"
    },
    "tags": []
   },
   "source": [
    "# Shakespeare\n",
    "\n",
    "Now, let's train our transformer on the complete work of shakespeare."
   ]
  },
  {
   "cell_type": "markdown",
   "id": "a8153236",
   "metadata": {
    "papermill": {
     "duration": 0.021032,
     "end_time": "2024-07-29T20:13:47.548858",
     "exception": false,
     "start_time": "2024-07-29T20:13:47.527826",
     "status": "completed"
    },
    "tags": []
   },
   "source": [
    "## Download and prepare data"
   ]
  },
  {
   "cell_type": "code",
   "execution_count": 23,
   "id": "79528284",
   "metadata": {
    "execution": {
     "iopub.execute_input": "2024-07-29T20:13:47.592974Z",
     "iopub.status.busy": "2024-07-29T20:13:47.592721Z",
     "iopub.status.idle": "2024-07-29T20:13:48.445501Z",
     "shell.execute_reply": "2024-07-29T20:13:48.444706Z"
    },
    "papermill": {
     "duration": 0.877616,
     "end_time": "2024-07-29T20:13:48.448163",
     "exception": false,
     "start_time": "2024-07-29T20:13:47.570547",
     "status": "completed"
    },
    "tags": []
   },
   "outputs": [],
   "source": [
    "url = \"https://www.gutenberg.org/files/100/100-0.txt\"\n",
    "response = requests.get(url)\n",
    "if response.status_code == 200:\n",
    "    full_raw_test = response.content.decode(\"utf8\")"
   ]
  },
  {
   "cell_type": "code",
   "execution_count": 24,
   "id": "c758621f",
   "metadata": {
    "execution": {
     "iopub.execute_input": "2024-07-29T20:13:48.493058Z",
     "iopub.status.busy": "2024-07-29T20:13:48.492787Z",
     "iopub.status.idle": "2024-07-29T20:13:48.572105Z",
     "shell.execute_reply": "2024-07-29T20:13:48.570847Z"
    },
    "papermill": {
     "duration": 0.103636,
     "end_time": "2024-07-29T20:13:48.574168",
     "exception": false,
     "start_time": "2024-07-29T20:13:48.470532",
     "status": "completed"
    },
    "tags": []
   },
   "outputs": [
    {
     "name": "stdout",
     "output_type": "stream",
     "text": [
      "Number of paragraphs: 24420\n",
      "\n",
      "KATHARINE.\r\n",
      "_Sauf votre honneur_, me understand well.\n",
      "\n",
      "He thence departs a heavy convertite;\r\n",
      "She there remains a hopeless castaway.\r\n",
      "He in his speed looks for the morning light;\r\n",
      "She prays she never may behold the day.\r\n",
      "\"For day,\" quoth she, \"night's scapes doth open lay,\r\n",
      "    And my true eyes have never practised how\r\n",
      "    To cloak offences with a cunning brow.\n",
      "\n",
      "MOTHER.\r\n",
      "Lucina lent not me her aid,\r\n",
      "But took me in my throes,\r\n",
      "That from me was Posthumus ripp'd,\r\n",
      "Came crying 'mongst his foes,\r\n",
      "A thing of pity.\n",
      "\n"
     ]
    }
   ],
   "source": [
    "vocab = {}\n",
    "replace_tokens = {'‘': '\\'', '’': '\\'', '—': '-', '“': '\"', '”': '\"'}\n",
    "\n",
    "for rplced_tkn, rplc_rkn in replace_tokens.items():\n",
    "    full_raw_test = full_raw_test.replace(rplced_tkn, rplc_rkn)\n",
    "    \n",
    "full_raw_test = full_raw_test.replace('           ', '')\n",
    "\n",
    "paragraphs = full_raw_test.split(\"\\r\\n\\r\\n\")\n",
    "paragraphs = [x for x in paragraphs if len(x) > 0]\n",
    "paragraphs = paragraphs[1:-1]\n",
    "paragraphs = [x for x in paragraphs if len(x) > 50]\n",
    "\n",
    "print(f\"Number of paragraphs: {len(paragraphs)}\")\n",
    "print()\n",
    "\n",
    "samples = random.sample(paragraphs, 3)\n",
    "for sample in samples:\n",
    "    print(sample)\n",
    "    print()\n",
    "\n",
    "with open(\"paragraphs.txt\", \"w\") as f:\n",
    "    f.write(\"\\n\".join(paragraphs))"
   ]
  },
  {
   "cell_type": "markdown",
   "id": "c8fa1964",
   "metadata": {
    "papermill": {
     "duration": 0.021171,
     "end_time": "2024-07-29T20:13:48.617236",
     "exception": false,
     "start_time": "2024-07-29T20:13:48.596065",
     "status": "completed"
    },
    "tags": []
   },
   "source": [
    "## Tokenization\n",
    "\n",
    "Neural networks can't understand strings, only numbers. To that end, we need to build a vocabulary and assign IDs to each token. A simple way to do this would be to make each word a token. A clever way is to start with all letters in the alphabet, and the gradually build our vocabulary from these letters, prioritizing the combinations that happen the most in the training data. This makes predictions easier for the model and avoid the need for Unknown \\<unk> tokens.\n",
    "\n",
    "In the code below, we train a tokenizer, pad and truncate sequences, and add special tokens to them. Note that the tokenizer already returns the attention mask for us."
   ]
  },
  {
   "cell_type": "code",
   "execution_count": 25,
   "id": "294c2b73",
   "metadata": {
    "execution": {
     "iopub.execute_input": "2024-07-29T20:13:48.661234Z",
     "iopub.status.busy": "2024-07-29T20:13:48.660933Z",
     "iopub.status.idle": "2024-07-29T20:13:50.222995Z",
     "shell.execute_reply": "2024-07-29T20:13:50.221919Z"
    },
    "papermill": {
     "duration": 1.586412,
     "end_time": "2024-07-29T20:13:50.225204",
     "exception": false,
     "start_time": "2024-07-29T20:13:48.638792",
     "status": "completed"
    },
    "tags": []
   },
   "outputs": [
    {
     "name": "stdout",
     "output_type": "stream",
     "text": [
      "\n",
      "\n",
      "\n",
      "Tokens: ['<s>', 'H', 'i', 'Ġmy', 'Ġfriend', '</s>', '<pad>', '<pad>', '<pad>', '<pad>']\n",
      "Ids: [0, 44, 77, 317, 686, 1, 4, 4, 4, 4]\n",
      "Mask: [1, 1, 1, 1, 1, 1, 0, 0, 0, 0]\n"
     ]
    }
   ],
   "source": [
    "VOCAB_SIZE = 5_000\n",
    "CONTEXT_SIZE = 200\n",
    "\n",
    "\n",
    "tokenizer = ByteLevelBPETokenizer()\n",
    "tokenizer.train(files=[\"paragraphs.txt\"], vocab_size=VOCAB_SIZE, min_frequency=2, special_tokens=[\n",
    "    \"<s>\",\n",
    "    \"</s>\",\n",
    "    \"<unk>\",\n",
    "    \"<mask>\",\n",
    "    \"<pad>\"\n",
    "])\n",
    "\n",
    "### Pad the sequences to 200 tokens\n",
    "truncation_strategy = {\"max_length\": CONTEXT_SIZE}\n",
    "padding_strategy = {\"length\": CONTEXT_SIZE, \"pad_token\": \"<pad>\", \"pad_id\": tokenizer.token_to_id(\"<pad>\")}\n",
    "\n",
    "tokenizer.enable_truncation(**truncation_strategy)\n",
    "tokenizer.enable_padding(**padding_strategy)\n",
    "\n",
    "### Add the start and end tokens to each sequence\n",
    "tokenizer._tokenizer.post_processor = BertProcessing(\n",
    "    (\"</s>\", tokenizer.token_to_id(\"</s>\")),\n",
    "    (\"<s>\", tokenizer.token_to_id(\"<s>\")),\n",
    ")\n",
    "\n",
    "encoding = tokenizer.encode(\"Hi my friend\")\n",
    "print(f\"Tokens: {encoding.tokens[:10]}\")\n",
    "print(f\"Ids: {encoding.ids[:10]}\")\n",
    "print(f\"Mask: {encoding.attention_mask[:10]}\")"
   ]
  },
  {
   "cell_type": "code",
   "execution_count": 26,
   "id": "d899a391",
   "metadata": {
    "execution": {
     "iopub.execute_input": "2024-07-29T20:13:50.270098Z",
     "iopub.status.busy": "2024-07-29T20:13:50.269804Z",
     "iopub.status.idle": "2024-07-29T20:13:55.928276Z",
     "shell.execute_reply": "2024-07-29T20:13:55.927464Z"
    },
    "papermill": {
     "duration": 5.683416,
     "end_time": "2024-07-29T20:13:55.930608",
     "exception": false,
     "start_time": "2024-07-29T20:13:50.247192",
     "status": "completed"
    },
    "tags": []
   },
   "outputs": [],
   "source": [
    "encoded_paragraphs = tokenizer.encode_batch(paragraphs)\n",
    "encoded_paragraphs = [(x.ids, x.attention_mask) for x in encoded_paragraphs]\n",
    "\n",
    "train_size = .90\n",
    "val_size = .10\n",
    "\n",
    "torch.manual_seed(0)\n",
    "idx = torch.randperm(len(encoded_paragraphs))\n",
    "\n",
    "idx_train = int(len(encoded_paragraphs) * train_size)\n",
    "idx_val = int(len(encoded_paragraphs) * val_size)\n",
    "\n",
    "train_data = torch.tensor([encoded_paragraphs[i] for i in idx[:idx_train]]).to(device)\n",
    "val_data = torch.tensor([encoded_paragraphs[i] for i in idx[idx_train:]]).to(device)"
   ]
  },
  {
   "cell_type": "markdown",
   "id": "919179b2",
   "metadata": {
    "papermill": {
     "duration": 0.021112,
     "end_time": "2024-07-29T20:13:55.973644",
     "exception": false,
     "start_time": "2024-07-29T20:13:55.952532",
     "status": "completed"
    },
    "tags": []
   },
   "source": [
    "## Train and val"
   ]
  },
  {
   "cell_type": "code",
   "execution_count": 27,
   "id": "89c72b40",
   "metadata": {
    "execution": {
     "iopub.execute_input": "2024-07-29T20:13:56.017667Z",
     "iopub.status.busy": "2024-07-29T20:13:56.017091Z",
     "iopub.status.idle": "2024-07-29T20:13:56.023270Z",
     "shell.execute_reply": "2024-07-29T20:13:56.022448Z"
    },
    "papermill": {
     "duration": 0.030373,
     "end_time": "2024-07-29T20:13:56.025238",
     "exception": false,
     "start_time": "2024-07-29T20:13:55.994865",
     "status": "completed"
    },
    "tags": []
   },
   "outputs": [],
   "source": [
    "class ShakespeareDataset(Dataset):\n",
    "    def __init__(self, dataset):\n",
    "        \"\"\" Dataset for the Shakespeare dataset.\n",
    "\n",
    "        Args:\n",
    "            dataset (torch.tensor): A tensor of shape (n_observations, 2, seq_len) containing the input and mask.\n",
    "        \"\"\"\n",
    "        self.x = dataset[:, 0, :-1]\n",
    "        self.mask = dataset[:, 1, :-1]\n",
    "        self.y = dataset[:, 0, 1:]\n",
    "    \n",
    "    def __len__(self):\n",
    "        return len(self.x)\n",
    "\n",
    "    def __getitem__(self, idx):\n",
    "        return self.x[idx], self.y[idx], self.mask[idx]"
   ]
  },
  {
   "cell_type": "code",
   "execution_count": 28,
   "id": "8b124349",
   "metadata": {
    "execution": {
     "iopub.execute_input": "2024-07-29T20:13:56.069408Z",
     "iopub.status.busy": "2024-07-29T20:13:56.068911Z",
     "iopub.status.idle": "2024-07-29T20:13:56.073977Z",
     "shell.execute_reply": "2024-07-29T20:13:56.073167Z"
    },
    "papermill": {
     "duration": 0.029294,
     "end_time": "2024-07-29T20:13:56.075940",
     "exception": false,
     "start_time": "2024-07-29T20:13:56.046646",
     "status": "completed"
    },
    "tags": []
   },
   "outputs": [],
   "source": [
    "train_dataset = ShakespeareDataset(train_data)\n",
    "val_dataset = ShakespeareDataset(val_data)\n",
    "\n",
    "train_dataloader = DataLoader(train_dataset, batch_size=64, shuffle=True)\n",
    "val_dataloader = DataLoader(val_dataset, batch_size=32, shuffle=False)"
   ]
  },
  {
   "cell_type": "markdown",
   "id": "3f43c3a8",
   "metadata": {
    "papermill": {
     "duration": 0.021209,
     "end_time": "2024-07-29T20:13:56.118433",
     "exception": false,
     "start_time": "2024-07-29T20:13:56.097224",
     "status": "completed"
    },
    "tags": []
   },
   "source": [
    "## Training"
   ]
  },
  {
   "cell_type": "code",
   "execution_count": 29,
   "id": "4cddaf2a",
   "metadata": {
    "execution": {
     "iopub.execute_input": "2024-07-29T20:13:56.162643Z",
     "iopub.status.busy": "2024-07-29T20:13:56.162165Z",
     "iopub.status.idle": "2024-07-29T20:13:56.170642Z",
     "shell.execute_reply": "2024-07-29T20:13:56.169789Z"
    },
    "papermill": {
     "duration": 0.032781,
     "end_time": "2024-07-29T20:13:56.172495",
     "exception": false,
     "start_time": "2024-07-29T20:13:56.139714",
     "status": "completed"
    },
    "tags": []
   },
   "outputs": [],
   "source": [
    "def train_an_epoch(model, train, val, opt, scheduler, loss_func):\n",
    "    train_loss = 0\n",
    "    val_loss = 0\n",
    "    \n",
    "    model.train()\n",
    "    for x, y, mask in train:\n",
    "        opt.zero_grad()\n",
    "        out = model(x, mask)\n",
    "        \n",
    "        loss = loss_func(out, y)\n",
    "        loss.backward()\n",
    "        \n",
    "        opt.step()\n",
    "        scheduler.step()\n",
    "\n",
    "        train_loss += loss.item()\n",
    "\n",
    "    train_loss = train_loss / len(train.dataset)\n",
    "    \n",
    "    \n",
    "    model.eval()\n",
    "    with torch.no_grad():\n",
    "        for x, y, mask in val:\n",
    "            out = model(x, mask)\n",
    "\n",
    "            loss = loss_func(out, y)\n",
    "            val_loss += loss.item()\n",
    "\n",
    "    val_loss = val_loss / len(val.dataset)\n",
    "    \n",
    "    # print an example\n",
    "    x, y, mask = val_dataset[torch.randint(0, len(val_dataset), (1,)).item()]\n",
    "    out = model(x.unsqueeze(0), mask.unsqueeze(0))\n",
    "\n",
    "    print(f\"Input: {tokenizer.decode(x.tolist())[:30]}\")\n",
    "    print(f\"Prediction: {tokenizer.decode(torch.argmax(out, -1)[0].tolist())[:30]}\")\n",
    "        \n",
    "    return train_loss, val_loss"
   ]
  },
  {
   "cell_type": "code",
   "execution_count": 31,
   "id": "ee280fbc",
   "metadata": {
    "execution": {
     "iopub.execute_input": "2024-07-29T20:13:56.265839Z",
     "iopub.status.busy": "2024-07-29T20:13:56.265605Z",
     "iopub.status.idle": "2024-07-29T23:26:49.056717Z",
     "shell.execute_reply": "2024-07-29T23:26:49.055760Z"
    },
    "papermill": {
     "duration": 11572.843647,
     "end_time": "2024-07-29T23:26:49.087062",
     "exception": false,
     "start_time": "2024-07-29T20:13:56.243415",
     "status": "completed"
    },
    "tags": []
   },
   "outputs": [
    {
     "name": "stdout",
     "output_type": "stream",
     "text": [
      "# params: 24027016\n",
      "Total steps: 27520\n",
      "Input: TYBALT.\r\n",
      "Thou wretched boy, th\n",
      "Prediction: KING....\r\n",
      "I,,, I I, the,,,\r\n",
      "I,\n",
      "Epoch 0, Train loss: 0.1105, Val loss: 0.1930\n",
      "Input: This picture she advisedly per\n",
      "Prediction: KING......,,\r\n",
      "I, the of King,,\n",
      "Epoch 1, Train loss: 0.0984, Val loss: 0.1862\n",
      "Input: QUEEN MARGARET.\r\n",
      "Why, so I did\n",
      "Prediction: KING MARGARET.\r\n",
      " th\n",
      "Epoch 2, Train loss: 0.0951, Val loss: 0.1830\n",
      "Input: PANTINO.\r\n",
      "Lance, away, away! A\n",
      "Prediction: KINGOLI...\r\n",
      "I,, I, I, room,,,.\n",
      "Epoch 3, Train loss: 0.0933, Val loss: 0.1806\n",
      "Input:  Enter Gloucester, Bedford, Ex\n",
      " \n",
      "Epoch 4, Train loss: 0.0918, Val loss: 0.1793\n",
      "Input: HOTSPUR.\r\n",
      "Sick now? Droop now?\n",
      "Prediction: KING.\r\n",
      "Iignior,,,,,,,,,,\n",
      "I Kin\n",
      "Epoch 5, Train loss: 0.0906, Val loss: 0.1772\n",
      "Input: DESDEMONA.\r\n",
      "[_Singing._]\r\n",
      "    \n",
      "Prediction: KING.\r\n",
      "IAsideignior,, I   ,, K\n",
      "Epoch 6, Train loss: 0.0896, Val loss: 0.1757\n",
      "Input: ABBOT.\r\n",
      "My lord,\r\n",
      "Before I fre\n",
      "Prediction: KINGIANT\r\n",
      "I lord, sir\n",
      "I,'ll,, \n",
      "Epoch 7, Train loss: 0.0887, Val loss: 0.1747\n",
      "Input: MARIA.\r\n",
      "Why appear you with th\n",
      "Prediction: KING.\r\n",
      "I,,, you letter,,,,,, l\n",
      "Epoch 8, Train loss: 0.0880, Val loss: 0.1736\n",
      "Input: KING.\r\n",
      "Thyself do grace to the\n",
      "Prediction: KING HENRY\r\n",
      "I you, not, be, I \n",
      "Epoch 9, Train loss: 0.0874, Val loss: 0.1736\n",
      "Input: THAISA.\r\n",
      "Why, sir, say if you \n",
      "Prediction: KINGURISA.\r\n",
      "I, I, I you you, b\n",
      "Epoch 10, Train loss: 0.0868, Val loss: 0.1720\n",
      "Input: OTHELLO.\r\n",
      "But this denoted a f\n",
      "Prediction: KING.\r\n",
      "I I business,,, man,on,\n",
      "Epoch 11, Train loss: 0.0862, Val loss: 0.1713\n",
      "Input: ANTONY.\r\n",
      "Yet hear me, countrym\n",
      "Prediction: KING.\r\n",
      " you you, \n",
      "Epoch 12, Train loss: 0.0856, Val loss: 0.1701\n",
      "Input: BEATRICE.\r\n",
      "Alas! he gets nothi\n",
      "Prediction: KING.\r\n",
      "I, I isoose,, the I you\n",
      "Epoch 13, Train loss: 0.0851, Val loss: 0.1702\n",
      "Input: ROSENCRANTZ.\r\n",
      "She desires to s\n",
      "Prediction: KINGENCRANTZ.\r\n",
      "I is you be, a,\n",
      "Epoch 14, Train loss: 0.0847, Val loss: 0.1695\n",
      "Input: IACHIMO.\r\n",
      "All too soon I shall\n",
      "Prediction: KING.\r\n",
      "I you much, am be\r\n",
      "I I \n",
      "Epoch 15, Train loss: 0.0843, Val loss: 0.1690\n",
      "Input: KING.\r\n",
      "I would I had that corp\n",
      "Prediction: KING HENRY\r\n",
      "I am be'll been I \n",
      "Epoch 16, Train loss: 0.0840, Val loss: 0.1687\n",
      "Input: DEMETRIUS.\r\n",
      "So, now go tell, a\n",
      "Prediction: KING.\r\n",
      "I please I,, you I old \n",
      "Epoch 17, Train loss: 0.0837, Val loss: 0.1681\n",
      "Input: LORD BARDOLPH.\r\n",
      "As good as hea\n",
      "Prediction: KING.ARDOLPH.\r\n",
      "I I lord I, tel\n",
      "Epoch 18, Train loss: 0.0833, Val loss: 0.1680\n",
      "Input: \"Call it not, love, for love t\n",
      " a, the, not,\r\n",
      "And,\n",
      "Epoch 19, Train loss: 0.0831, Val loss: 0.1666\n",
      "Input: CONSTABLE.\r\n",
      "Disorder, that hat\n",
      "Prediction: KINGSTBLE.\r\n",
      "I,,, sir I been,iu\n",
      "Epoch 20, Train loss: 0.0828, Val loss: 0.1676\n",
      "Input: POLIXENES.\r\n",
      "This is the pretti\n",
      "Prediction: KINGISXENES.\r\n",
      "I is a world, th\n",
      "Epoch 21, Train loss: 0.0825, Val loss: 0.1664\n",
      "Input: ORLANDO.\r\n",
      "I am glad of your de\n",
      "Prediction: KING.\r\n",
      "I am glad, the Grace,,i\n",
      "Epoch 22, Train loss: 0.0823, Val loss: 0.1663\n",
      "Input: NORFOLK.\r\n",
      "O, fear him not.\r\n",
      "Hi\n",
      "Prediction: KINGFOLK.\r\n",
      "I, sir,, so\n",
      "I broth\n",
      "Epoch 23, Train loss: 0.0820, Val loss: 0.1657\n",
      "Input: GAUNT.\r\n",
      "Call it a travel that \n",
      "Prediction: KINGOL.\r\n",
      "I, is manvel, I artam\n",
      "Epoch 24, Train loss: 0.0818, Val loss: 0.1657\n",
      "Input: EMILIA.\r\n",
      "If he say so, may his\n",
      "Prediction: KING.\r\n",
      "I I is you much sir be \n",
      "Epoch 25, Train loss: 0.0816, Val loss: 0.1653\n",
      "Input: QUEEN MARGARET.\r\n",
      "So now prospe\n",
      "Prediction: KING MARGARET.\r\n",
      "I please,ous,,\n",
      "Epoch 26, Train loss: 0.0814, Val loss: 0.1651\n",
      "Input: SILENCE.\r\n",
      "Ah, sirrah! quoth-a,\n",
      "Prediction: KINGVIA.\r\n",
      " Ifert I'll \n",
      "Epoch 27, Train loss: 0.0812, Val loss: 0.1646\n",
      "Input: BEATRICE.\r\n",
      "Alas! he gets nothi\n",
      "Prediction: KING.\r\n",
      "I, I isather, else the \n",
      "Epoch 28, Train loss: 0.0810, Val loss: 0.1643\n",
      "Input: MONTAGUE.\r\n",
      "Who set this ancien\n",
      "Prediction: KINGTANOUE.\r\n",
      "I is down busines\n",
      "Epoch 29, Train loss: 0.0807, Val loss: 0.1637\n",
      "Input: GRATIANO.\r\n",
      "You look not well, \n",
      "Prediction: KING.\r\n",
      "I have you so, sir Bene\n",
      "Epoch 30, Train loss: 0.0806, Val loss: 0.1638\n",
      "Input: KING HENRY.\r\n",
      "It is not a fashi\n",
      "Prediction: KING RICHARD.\r\n",
      "I is not so man\n",
      "Epoch 31, Train loss: 0.0804, Val loss: 0.1635\n",
      "Input: HELENA.\r\n",
      "I pray you, though yo\n",
      "Prediction: KING.\r\n",
      "I am you, sir I have,, \n",
      "Epoch 32, Train loss: 0.0802, Val loss: 0.1634\n",
      "Input: \"'For some hard-favoured groom\n",
      "Prediction: KINGOTis I..messius,ansen the \n",
      "Epoch 33, Train loss: 0.0801, Val loss: 0.1627\n",
      "Input: O, behold,\r\n",
      "The riches of the \n",
      "Prediction: KINGPH sir. my\n",
      "I Kingder, the \n",
      "Epoch 34, Train loss: 0.0799, Val loss: 0.1624\n",
      "Input: DUNCAN.\r\n",
      "See, see, our honour'\n",
      "Prediction: KINGNYMAN.\r\n",
      "I, I you I mother,\n",
      "Epoch 35, Train loss: 0.0798, Val loss: 0.1622\n",
      "Input: PORTIA.\r\n",
      "He knows me as the bl\n",
      "Prediction: KING.\r\n",
      "I is not, I King,,, wor\n",
      "Epoch 36, Train loss: 0.0796, Val loss: 0.1616\n",
      "Input: HELICANUS.\r\n",
      "Lord Thaliard from\n",
      "Prediction: KINGICANUS.\r\n",
      "I,ranppyvia, thei\n",
      "Epoch 37, Train loss: 0.0794, Val loss: 0.1621\n",
      "Input: VIOLA.\r\n",
      "Of Messaline: Sebastia\n",
      "Prediction: KING.\r\n",
      "belled, a lo\n",
      "Epoch 38, Train loss: 0.0793, Val loss: 0.1618\n",
      "Input: LEAR.\r\n",
      "And the creature run fr\n",
      "Prediction: KING.\r\n",
      "I I King,ning the world\n",
      "Epoch 39, Train loss: 0.0792, Val loss: 0.1615\n",
      "Input: LEAR.\r\n",
      "The bow is bent and dra\n",
      "Prediction: KING.\r\n",
      " me\n",
      "Epoch 40, Train loss: 0.0790, Val loss: 0.1613\n",
      "Input: ANTIPHOLUS OF EPHESUS.\r\n",
      "I came\n",
      "Prediction: KING OF EPHESUS.\r\n",
      "I am, the,ch\n",
      "Epoch 41, Train loss: 0.0789, Val loss: 0.1612\n",
      "Input: WARWICK.\r\n",
      "Because thy father H\n",
      "Prediction: KING.\r\n",
      "I you hand,, not,\r\n",
      "I I \n",
      "Epoch 42, Train loss: 0.0787, Val loss: 0.1609\n",
      "Input: LUCIUS.\r\n",
      "No, sir, their hats a\n",
      "Prediction: KING.\r\n",
      "I, sir, sir owned, not,\n",
      "Epoch 43, Train loss: 0.0786, Val loss: 0.1612\n",
      "Input: AUTOLYCUS.\r\n",
      "No, good sweet sir\n",
      "Prediction: KING.\r\n",
      " more\n",
      "Epoch 44, Train loss: 0.0785, Val loss: 0.1607\n",
      "Input: MIRANDA.\r\n",
      "Yes, for a score of \n",
      "Prediction: KINGOWANDA.\r\n",
      "I, I the manened \n",
      "Epoch 45, Train loss: 0.0784, Val loss: 0.1605\n",
      "Input: DEMETRIUS.\r\n",
      "So, now go tell, a\n",
      "Prediction: KING.\r\n",
      "I please I, with me I h\n",
      "Epoch 46, Train loss: 0.0783, Val loss: 0.1606\n",
      "Input: 1 NEIGHBOUR.\r\n",
      "Here, neighbour \n",
      "Prediction: KING K.PER'llT..\r\n",
      ",ark\n",
      "Epoch 47, Train loss: 0.0782, Val loss: 0.1603\n",
      "Input: PORTIA.\r\n",
      "I see, sir, you are l\n",
      "Prediction: KING.\r\n",
      "I am the sir, I, youalv\n",
      "Epoch 48, Train loss: 0.0780, Val loss: 0.1602\n",
      "Input: WINCHESTER.\r\n",
      "Com'st thou with \n",
      "Prediction: KINGORCHESTER.\r\n",
      "Imt thou art a\n",
      "Epoch 49, Train loss: 0.0779, Val loss: 0.1604\n",
      "Input: BELARIUS.\r\n",
      "It shall be so.\r\n",
      "Bo\n",
      "Prediction: KING.\r\n",
      "I is be so,\r\n",
      " h\n",
      "Epoch 50, Train loss: 0.0779, Val loss: 0.1599\n",
      "Input: PRINCE.\r\n",
      "Didst thou never see \n",
      "Prediction: KING.\r\n",
      "Ist thou hast saw thein\n",
      "Epoch 51, Train loss: 0.0777, Val loss: 0.1598\n",
      "Input: OLIVIA.\r\n",
      "O, do not swear.\r\n",
      "Hol\n",
      "Prediction: KING.\r\n",
      "I, I not, I\n",
      " \n",
      "Epoch 52, Train loss: 0.0777, Val loss: 0.1596\n",
      "Input: SECOND LORD.\r\n",
      "I have deliv'red\n",
      "Prediction: KING GENTLEMAN.\r\n",
      "I am abpsestd\n",
      "Epoch 53, Train loss: 0.0776, Val loss: 0.1597\n",
      "Input: LAFEW.\r\n",
      "Lustique, as the Dutch\n",
      "Prediction: KING.\r\n",
      "Iady,am, sir I Kinguioi\n",
      "Epoch 54, Train loss: 0.0775, Val loss: 0.1596\n",
      "Input: PAGE.\r\n",
      "O lord, they fight! I w\n",
      "Prediction: KING.\r\n",
      " have not to\n",
      "Epoch 55, Train loss: 0.0774, Val loss: 0.1594\n",
      "Input: ENOBARBUS.\r\n",
      "Not he that himsel\n",
      "Prediction: KING.\r\n",
      "I so is I, the so much\r\n",
      "Epoch 56, Train loss: 0.0774, Val loss: 0.1596\n",
      "Input: YORK.\r\n",
      "Is all our travail turn\n",
      "Prediction: KING.\r\n",
      "I not the cousinvel,'d,\n",
      "Epoch 57, Train loss: 0.0773, Val loss: 0.1594\n",
      "Input: RIVERS.\r\n",
      "These news, I must co\n",
      "Prediction: KINGCHS.\r\n",
      "I tidings, sir have \n",
      "Epoch 58, Train loss: 0.0772, Val loss: 0.1595\n",
      "Input: ARCHBISHOP.\r\n",
      "And so there is. \n",
      "Prediction: KINGCHBISHOP.\r\n",
      " I \n",
      "Epoch 59, Train loss: 0.0771, Val loss: 0.1594\n",
      "Input: CLEOPATRA.\r\n",
      "He is a god and kn\n",
      "Prediction: KING.\r\n",
      "I is the little, the no\n",
      "Epoch 60, Train loss: 0.0770, Val loss: 0.1592\n",
      "Input: HORTENSIO.\r\n",
      "The motion's good \n",
      "Prediction: KING.\r\n",
      " I so is\n",
      "Epoch 61, Train loss: 0.0769, Val loss: 0.1591\n",
      "Input: LAFEW.\r\n",
      "They say miracles are \n",
      "Prediction: KING.\r\n",
      " the'\n",
      "Epoch 62, Train loss: 0.0768, Val loss: 0.1588\n",
      "Input: BUCKINGHAM.\r\n",
      "Northumberland, t\n",
      "Prediction: KING.\r\n",
      "Ifolkumberland, I,, I h\n",
      "Epoch 63, Train loss: 0.0767, Val loss: 0.1589\n",
      "Input: CHARLES.\r\n",
      "For prisoners ask'st\n",
      "Prediction: KING.\r\n",
      "olde\n",
      "Epoch 64, Train loss: 0.0767, Val loss: 0.1588\n",
      "Input: DESDEMONA.\r\n",
      "[_Sings._]\r\n",
      "    _I\n",
      "Prediction: KING.\r\n",
      "IAsideings._] _    AndI\n",
      "Epoch 65, Train loss: 0.0765, Val loss: 0.1589\n",
      "Input: KING RICHARD.\r\n",
      "We were not bor\n",
      "Prediction: KING HENRY.\r\n",
      "I'll a so, thep,\r\n",
      "Epoch 66, Train loss: 0.0765, Val loss: 0.1586\n",
      "Input: KING.\r\n",
      "I have nothing with thi\n",
      "Prediction: KING HENRY\r\n",
      "I am been but a is\n",
      "Epoch 67, Train loss: 0.0765, Val loss: 0.1587\n",
      "Input: GUILDENSTERN.\r\n",
      "Which dreams, i\n",
      "Prediction: KINGIDDENSTERN.\r\n",
      " not's\n",
      "Epoch 68, Train loss: 0.0764, Val loss: 0.1586\n",
      "Input: BRANDON.\r\n",
      "I am sorry\r\n",
      "To see y\n",
      "Prediction: KINGORAABER.\r\n",
      "I am sorry,\n",
      "I th\n",
      "Epoch 69, Train loss: 0.0763, Val loss: 0.1583\n",
      "Input: EMILIA.\r\n",
      "I am extinct.\r\n",
      "There \n",
      "Prediction: KING.\r\n",
      "I am gladra,\r\n",
      "I's the I\n",
      "Epoch 70, Train loss: 0.0763, Val loss: 0.1585\n",
      "Input: FRIAR PETER.\r\n",
      "Blessed be your \n",
      "Prediction: KING LAWRENCEETER.\r\n",
      "Iesh,, so \n",
      "Epoch 71, Train loss: 0.0762, Val loss: 0.1582\n",
      "Input: Farewell, my beauteous sister.\n",
      "Prediction: KING. I lorduteous.sOresonouse\n",
      "Epoch 72, Train loss: 0.0761, Val loss: 0.1584\n",
      "Input: BENEDICK.\r\n",
      "And I do with an ey\n",
      "Prediction: KING.\r\n",
      "I I am not me honest, t\n",
      "Epoch 73, Train loss: 0.0760, Val loss: 0.1581\n",
      "Input: CLEOPATRA.\r\n",
      "Why, there's more \n",
      "Prediction: KING.\r\n",
      "I, sir ist than,\r\n",
      "I tha\n",
      "Epoch 74, Train loss: 0.0760, Val loss: 0.1581\n",
      "Input: HOSTESS.\r\n",
      "'A could never abide\n",
      "Prediction: KING.\r\n",
      "ITis very not sawide,ri\n",
      "Epoch 75, Train loss: 0.0759, Val loss: 0.1581\n",
      "Input: LYSIMACHUS. Did you go to't so\n",
      ",, with the,, Ar\n",
      "Epoch 76, Train loss: 0.0758, Val loss: 0.1580\n",
      "Input: GADSHILL.\r\n",
      "That's even as fair\n",
      "Prediction: KINGRUSHILL.\r\n",
      "I It now Ily IIo\n",
      "Epoch 77, Train loss: 0.0757, Val loss: 0.1579\n",
      "Input: KING EDWARD.\r\n",
      "Is proclamation \n",
      "Prediction: KING HENRY.\r\n",
      "I'tvedockor, a I \n",
      "Epoch 78, Train loss: 0.0757, Val loss: 0.1580\n",
      "Input: ANTIGONUS.\r\n",
      "Come, poor babe.\r\n",
      "\n",
      "Prediction: KINGGONUS.\r\n",
      "I, I gentleman,\r\n",
      "I\n",
      "Epoch 79, Train loss: 0.0756, Val loss: 0.1578\n"
     ]
    }
   ],
   "source": [
    "model = Trasformer(blocks=6,\n",
    "                   vocab_size=VOCAB_SIZE, \n",
    "                   d_model=512, \n",
    "                   n_heads=8, \n",
    "                   d_ff=512 * 4, \n",
    "                   dropout=.2).to(device)\n",
    "print(f\"# params: {sum(p.numel() for p in model.parameters())}\")\n",
    "\n",
    "loss = lambda pred, target: cross_entropy_loss(pred, target, label_smoothing=.1, ignore_index=tokenizer.token_to_id(\"<pad>\"))\n",
    "opt = torch.optim.Adam(model.parameters(), lr=1e-4)\n",
    "scheduler = torch.optim.lr_scheduler.LinearLR(\n",
    "    optimizer=opt\n",
    ")\n",
    "\n",
    "epochs = 80\n",
    "print(f\"Total steps: {epochs * len(train_dataloader)}\")\n",
    "\n",
    "\n",
    "train_loss, val_loss = [], []\n",
    "for epoch in range(epochs):\n",
    "    tl, vl = train_an_epoch(model, train_dataloader, val_dataloader, opt, scheduler, loss)\n",
    "    train_loss.append(tl)\n",
    "    val_loss.append(vl)\n",
    "\n",
    "    print(f\"Epoch {epoch}, Train loss: {tl:.4f}, Val loss: {vl:.4f}\")\n",
    "    \n",
    "    if vl == min(val_loss):\n",
    "        torch.save(model.state_dict(), \"/kaggle/working/model_shakespeare\")"
   ]
  },
  {
   "cell_type": "markdown",
   "id": "61ddebbd",
   "metadata": {},
   "source": [
    "Load back the best model"
   ]
  },
  {
   "cell_type": "code",
   "execution_count": 32,
   "id": "9dc6b916",
   "metadata": {
    "execution": {
     "iopub.execute_input": "2024-07-29T23:26:49.148049Z",
     "iopub.status.busy": "2024-07-29T23:26:49.147055Z",
     "iopub.status.idle": "2024-07-29T23:26:49.211965Z",
     "shell.execute_reply": "2024-07-29T23:26:49.211189Z"
    },
    "papermill": {
     "duration": 0.098597,
     "end_time": "2024-07-29T23:26:49.214346",
     "exception": false,
     "start_time": "2024-07-29T23:26:49.115749",
     "status": "completed"
    },
    "tags": []
   },
   "outputs": [],
   "source": [
    "model.load_state_dict(torch.load(\"/kaggle/working/model_shakespeare\"))"
   ]
  },
  {
   "cell_type": "markdown",
   "id": "3dc4163b",
   "metadata": {},
   "source": [
    "# Results\n",
    "\n",
    "The networked was trained for about 1h30min"
   ]
  },
  {
   "cell_type": "code",
   "execution_count": 33,
   "id": "6699c9dd",
   "metadata": {
    "execution": {
     "iopub.execute_input": "2024-07-29T23:26:49.274320Z",
     "iopub.status.busy": "2024-07-29T23:26:49.273944Z",
     "iopub.status.idle": "2024-07-29T23:26:49.579926Z",
     "shell.execute_reply": "2024-07-29T23:26:49.579004Z"
    },
    "papermill": {
     "duration": 0.338563,
     "end_time": "2024-07-29T23:26:49.582252",
     "exception": false,
     "start_time": "2024-07-29T23:26:49.243689",
     "status": "completed"
    },
    "tags": []
   },
   "outputs": [
    {
     "data": {
      "image/png": "[encoded data removed]",
      "text/plain": [
       "<Figure size 1000x500 with 1 Axes>"
      ]
     },
     "metadata": {},
     "output_type": "display_data"
    }
   ],
   "source": [
    "metricas = pd.DataFrame({\n",
    "    \"train_loss\": train_loss,\n",
    "    \"val_loss\": val_loss,\n",
    "})\n",
    "\n",
    "fig = plt.figure(figsize=(10, 5))\n",
    "\n",
    "fig = sns.lineplot(data=metricas[[\"train_loss\", \"val_loss\"]], dashes=False)\n",
    "\n",
    "fig.set_title(\"Loss on shakespeare dataset\")\n",
    "fig.set_xlabel(\"Epoch\")\n",
    "fig.set_xlabel(\"Loss\")\n",
    "\n",
    "\n",
    "plt.tight_layout()\n",
    "\n",
    "plt.show()"
   ]
  },
  {
   "cell_type": "code",
   "execution_count": 34,
   "id": "a6bb934c",
   "metadata": {
    "execution": {
     "iopub.execute_input": "2024-07-29T23:26:49.642778Z",
     "iopub.status.busy": "2024-07-29T23:26:49.642420Z",
     "iopub.status.idle": "2024-07-29T23:26:49.651026Z",
     "shell.execute_reply": "2024-07-29T23:26:49.650022Z"
    },
    "papermill": {
     "duration": 0.041388,
     "end_time": "2024-07-29T23:26:49.653027",
     "exception": false,
     "start_time": "2024-07-29T23:26:49.611639",
     "status": "completed"
    },
    "tags": []
   },
   "outputs": [],
   "source": [
    "def complete(model, tokenizer, text, lenght):\n",
    "    tokenizer.no_padding()\n",
    "    tokenizer.no_truncation()\n",
    "\n",
    "    tokens = tokenizer.encode(text)\n",
    "    ids = tokens.ids\n",
    "\n",
    "    ids = torch.tensor([ids]).to(device)\n",
    "    mask = torch.ones_like(ids)\n",
    "\n",
    "    with torch.no_grad():\n",
    "        l = 0\n",
    "        pred_id = None\n",
    "        while pred_id != tokenizer.token_to_id(\"</s>\") and l < lenght:\n",
    "            pred = model(ids, mask)\n",
    "\n",
    "            pred_id = pred[0, -1].argmax().item()\n",
    "        \n",
    "            ids = torch.cat([ids, torch.tensor([[pred_id]]).to(device)], dim=-1)\n",
    "            mask = torch.ones_like(ids)\n",
    "\n",
    "            l += 1\n",
    "\n",
    "    tokenizer.enable_truncation(**truncation_strategy)\n",
    "    tokenizer.enable_padding(**padding_strategy)\n",
    "\n",
    "    return tokenizer.decode(ids[0].cpu().numpy())\n",
    "    "
   ]
  },
  {
   "cell_type": "code",
   "execution_count": 35,
   "id": "cd0fa448",
   "metadata": {
    "execution": {
     "iopub.execute_input": "2024-07-29T23:26:49.715083Z",
     "iopub.status.busy": "2024-07-29T23:26:49.714742Z",
     "iopub.status.idle": "2024-07-29T23:26:49.858328Z",
     "shell.execute_reply": "2024-07-29T23:26:49.857046Z"
    },
    "papermill": {
     "duration": 0.17663,
     "end_time": "2024-07-29T23:26:49.860610",
     "exception": false,
     "start_time": "2024-07-29T23:26:49.683980",
     "status": "completed"
    },
    "tags": []
   },
   "outputs": [
    {
     "name": "stdout",
     "output_type": "stream",
     "text": [
      "Oh, god.\r\n",
      "I'll be so much as I'll be gone,\r\n",
      "And I'll be a man.\n"
     ]
    }
   ],
   "source": [
    "print(complete(model, tokenizer, \"Oh, god\", 50))"
   ]
  },
  {
   "cell_type": "code",
   "execution_count": 36,
   "id": "aadde717",
   "metadata": {
    "execution": {
     "iopub.execute_input": "2024-07-29T23:26:49.922972Z",
     "iopub.status.busy": "2024-07-29T23:26:49.922019Z",
     "iopub.status.idle": "2024-07-29T23:26:50.242961Z",
     "shell.execute_reply": "2024-07-29T23:26:50.241817Z"
    },
    "papermill": {
     "duration": 0.354018,
     "end_time": "2024-07-29T23:26:50.245330",
     "exception": false,
     "start_time": "2024-07-29T23:26:49.891312",
     "status": "completed"
    },
    "tags": []
   },
   "outputs": [
    {
     "name": "stdout",
     "output_type": "stream",
     "text": [
      "The love of my life\n",
      ",\r\n",
      "And I have been a man,\r\n",
      "And I am surety thousand ducats,\r\n",
      "And I have been a man,\r\n",
      "And I am surety thousand ducats,\r\n",
      "And I have a man,\r\n",
      "And\n"
     ]
    }
   ],
   "source": [
    "print(complete(model, tokenizer, \"The love of my life\\n\", 50))"
   ]
  },
  {
   "cell_type": "markdown",
   "id": "f75a62db",
   "metadata": {
    "papermill": {
     "duration": 0.02937,
     "end_time": "2024-07-29T23:26:50.305847",
     "exception": false,
     "start_time": "2024-07-29T23:26:50.276477",
     "status": "completed"
    },
    "tags": []
   },
   "source": [
    "# Questions from the curricumum\n",
    "\n",
    "**What is different architecturally from the Transformer, vs a normal RNN, like an LSTM? (Specifically, how are recurrence and time managed?)**\n",
    "\n",
    "**A:** First of all, RNNs process one token at a time, both for input and for output sequences, because each prediction depends on the previous ones, while transformers are highly parallelizable with their multi-headed attention mechanism, which lets the model compute many attention blocks in at the same time. Besides that, transformers use the self-attention, which calculates attetion scores for each token based on all other tokens at the same time. In RNNs, the attention is computed using the internal hidden state, which is a single vector that is updated in each prediction step. This makes tokens to be \"forgotten\" some steps ahead.\n",
    "\n",
    "**Attention is defined as, $Attention(Q,K,V) = softmax\\left(QK^T/\\sqrt{(d_k)}\\right)V$. What are the dimensions for Q, K, and V? Why do we use this setup? What other combinations could we do with (Q,K) that also output weights?**\n",
    "\n",
    "**A**: To keep computational cost constant, the authors use $Q \\in R^{context\\_size \\times d\\_q}$ (same for K and V), with $d\\_q = d\\_k = d\\_v = d\\_model / n\\_heads$. This way, $QK^T \\in R^{context\\_size \\times context\\_size}$, $softmax\\left(QK^T/\\sqrt{(d_k)}\\right)V \\in R^{context\\_size \\times d\\_v}$, and after concatenation of all heades, $concat(attentions) \\in R^{context\\_size \\times d\\_model}$, which makes the same dimention of output for the entire block. It is like that so that query and key matrices compute scores, or how much each token is related to other tokens, and value matrix is the \"value\" of the tokens. So, after attention block, each token embedding is updated to be the weighted sum (softmax normalizes rows to 1) of all tokens, incorporating context to it.\n",
    "\n",
    "**Are the dense layers different at each multi-head attention block? Why or why not?**\n",
    "\n",
    "**A**: They have the same architecture, but they don't need to. The only restriction is that their input and their output must have all the same dimention, d_model, to fit in the output and input of attention layers.\n",
    "\n",
    "**Why do we have so many skip connections, especially connecting the input of an attention function to the output? Intuitively, what if we didn't?**\n",
    "\n",
    "**A**: Skip connections in deep neural networks are used to address the vanishing and exploding gradient problems. In a deep neural network, in the first stages of training, each layer will have random weights and will add a small amount of noise to the input and then pass it on to the next layer. If the network is too deep, later layers will only receive noise as input and will learn slowly. Furthermore, in backpropagation, the gradients will be less representative of the error for earlier layers. Skip connections create small blocks of layers in the network, shortening the path from later layers to the input, and from the error gradient to earlier layers, which significantly speeds up the training."
   ]
  }
 ],
 "metadata": {
  "kaggle": {
   "accelerator": "gpu",
   "dataSources": [],
   "dockerImageVersionId": 30747,
   "isGpuEnabled": true,
   "isInternetEnabled": true,
   "language": "python",
   "sourceType": "notebook"
  },
  "kernelspec": {
   "display_name": "Python 3",
   "language": "python",
   "name": "python3"
  },
  "language_info": {
   "codemirror_mode": {
    "name": "ipython",
    "version": 3
   },
   "file_extension": ".py",
   "mimetype": "text/x-python",
   "name": "python",
   "nbconvert_exporter": "python",
   "pygments_lexer": "ipython3",
   "version": "3.12.3"
  },
  "papermill": {
   "default_parameters": {},
   "duration": 12146.83674,
   "end_time": "2024-07-29T23:26:52.185023",
   "environment_variables": {},
   "exception": null,
   "input_path": "__notebook__.ipynb",
   "output_path": "__notebook__.ipynb",
   "parameters": {},
   "start_time": "2024-07-29T20:04:25.348283",
   "version": "2.5.0"
  }
 },
 "nbformat": 4,
 "nbformat_minor": 5
}
